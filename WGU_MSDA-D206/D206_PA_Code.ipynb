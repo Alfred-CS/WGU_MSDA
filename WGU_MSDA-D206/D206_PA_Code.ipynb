{
 "cells": [
  {
   "cell_type": "code",
   "execution_count": 11,
   "id": "f843fae6-98d1-4428-84e4-925f131d90e1",
   "metadata": {
    "tags": []
   },
   "outputs": [
    {
     "name": "stdout",
     "output_type": "stream",
     "text": [
      "<class 'pandas.core.frame.DataFrame'>\n",
      "Index: 10000 entries, 1 to 10000\n",
      "Data columns (total 52 columns):\n",
      " #   Column              Non-Null Count  Dtype  \n",
      "---  ------              --------------  -----  \n",
      " 0   CaseOrder           10000 non-null  int64  \n",
      " 1   Customer_id         10000 non-null  object \n",
      " 2   Interaction         10000 non-null  object \n",
      " 3   UID                 10000 non-null  object \n",
      " 4   City                10000 non-null  object \n",
      " 5   State               10000 non-null  object \n",
      " 6   County              10000 non-null  object \n",
      " 7   Zip                 10000 non-null  int64  \n",
      " 8   Lat                 10000 non-null  float64\n",
      " 9   Lng                 10000 non-null  float64\n",
      " 10  Population          10000 non-null  int64  \n",
      " 11  Area                10000 non-null  object \n",
      " 12  Timezone            10000 non-null  object \n",
      " 13  Job                 10000 non-null  object \n",
      " 14  Children            7412 non-null   float64\n",
      " 15  Age                 7586 non-null   float64\n",
      " 16  Education           10000 non-null  object \n",
      " 17  Employment          10000 non-null  object \n",
      " 18  Income              7536 non-null   float64\n",
      " 19  Marital             10000 non-null  object \n",
      " 20  Gender              10000 non-null  object \n",
      " 21  ReAdmis             10000 non-null  object \n",
      " 22  VitD_levels         10000 non-null  float64\n",
      " 23  Doc_visits          10000 non-null  int64  \n",
      " 24  Full_meals_eaten    10000 non-null  int64  \n",
      " 25  VitD_supp           10000 non-null  int64  \n",
      " 26  Soft_drink          7533 non-null   object \n",
      " 27  Initial_admin       10000 non-null  object \n",
      " 28  HighBlood           10000 non-null  object \n",
      " 29  Stroke              10000 non-null  object \n",
      " 30  Complication_risk   10000 non-null  object \n",
      " 31  Overweight          9018 non-null   float64\n",
      " 32  Arthritis           10000 non-null  object \n",
      " 33  Diabetes            10000 non-null  object \n",
      " 34  Hyperlipidemia      10000 non-null  object \n",
      " 35  BackPain            10000 non-null  object \n",
      " 36  Anxiety             9016 non-null   float64\n",
      " 37  Allergic_rhinitis   10000 non-null  object \n",
      " 38  Reflux_esophagitis  10000 non-null  object \n",
      " 39  Asthma              10000 non-null  object \n",
      " 40  Services            10000 non-null  object \n",
      " 41  Initial_days        8944 non-null   float64\n",
      " 42  TotalCharge         10000 non-null  float64\n",
      " 43  Additional_charges  10000 non-null  float64\n",
      " 44  Item1               10000 non-null  int64  \n",
      " 45  Item2               10000 non-null  int64  \n",
      " 46  Item3               10000 non-null  int64  \n",
      " 47  Item4               10000 non-null  int64  \n",
      " 48  Item5               10000 non-null  int64  \n",
      " 49  Item6               10000 non-null  int64  \n",
      " 50  Item7               10000 non-null  int64  \n",
      " 51  Item8               10000 non-null  int64  \n",
      "dtypes: float64(11), int64(14), object(27)\n",
      "memory usage: 4.0+ MB\n"
     ]
    }
   ],
   "source": [
    "import pandas as pd\n",
    "from pandas.api.types import CategoricalDtype\n",
    "import numpy as np\n",
    "import matplotlib.pyplot as plt\n",
    "from sklearn.decomposition import PCA\n",
    "import seaborn as sns\n",
    "from scipy import stats\n",
    "\n",
    "# Reading CSV file with indexing, avoiding duplication by not specifying 'index_col=0'\n",
    "data = pd.read_csv('./medical_raw_data.csv', index_col=0)\n",
    "\n",
    "# Inspecting data types, count of values, and overall dataframe size\n",
    "data.info()\n"
   ]
  },
  {
   "cell_type": "code",
   "execution_count": 12,
   "id": "7bdd70da-353c-4666-8c93-c8d20d23cc3e",
   "metadata": {
    "tags": []
   },
   "outputs": [
    {
     "data": {
      "text/html": [
       "<div>\n",
       "<style scoped>\n",
       "    .dataframe tbody tr th:only-of-type {\n",
       "        vertical-align: middle;\n",
       "    }\n",
       "\n",
       "    .dataframe tbody tr th {\n",
       "        vertical-align: top;\n",
       "    }\n",
       "\n",
       "    .dataframe thead th {\n",
       "        text-align: right;\n",
       "    }\n",
       "</style>\n",
       "<table border=\"1\" class=\"dataframe\">\n",
       "  <thead>\n",
       "    <tr style=\"text-align: right;\">\n",
       "      <th></th>\n",
       "      <th>CaseOrder</th>\n",
       "      <th>Customer_id</th>\n",
       "      <th>Interaction</th>\n",
       "      <th>UID</th>\n",
       "      <th>City</th>\n",
       "      <th>State</th>\n",
       "      <th>County</th>\n",
       "      <th>Zip</th>\n",
       "      <th>Lat</th>\n",
       "      <th>Lng</th>\n",
       "      <th>Population</th>\n",
       "      <th>Area</th>\n",
       "      <th>Timezone</th>\n",
       "      <th>Job</th>\n",
       "      <th>Children</th>\n",
       "      <th>Age</th>\n",
       "      <th>Education</th>\n",
       "      <th>Employment</th>\n",
       "      <th>Income</th>\n",
       "      <th>Marital</th>\n",
       "      <th>Gender</th>\n",
       "      <th>ReAdmis</th>\n",
       "      <th>VitD_levels</th>\n",
       "      <th>Doc_visits</th>\n",
       "      <th>Full_meals_eaten</th>\n",
       "      <th>VitD_supp</th>\n",
       "      <th>Soft_drink</th>\n",
       "      <th>Initial_admin</th>\n",
       "      <th>HighBlood</th>\n",
       "      <th>Stroke</th>\n",
       "      <th>Complication_risk</th>\n",
       "      <th>Overweight</th>\n",
       "      <th>Arthritis</th>\n",
       "      <th>Diabetes</th>\n",
       "      <th>Hyperlipidemia</th>\n",
       "      <th>BackPain</th>\n",
       "      <th>Anxiety</th>\n",
       "      <th>Allergic_rhinitis</th>\n",
       "      <th>Reflux_esophagitis</th>\n",
       "      <th>Asthma</th>\n",
       "      <th>Services</th>\n",
       "      <th>Initial_days</th>\n",
       "      <th>TotalCharge</th>\n",
       "      <th>Additional_charges</th>\n",
       "      <th>Item1</th>\n",
       "      <th>Item2</th>\n",
       "      <th>Item3</th>\n",
       "      <th>Item4</th>\n",
       "      <th>Item5</th>\n",
       "      <th>Item6</th>\n",
       "      <th>Item7</th>\n",
       "      <th>Item8</th>\n",
       "    </tr>\n",
       "  </thead>\n",
       "  <tbody>\n",
       "    <tr>\n",
       "      <th>1</th>\n",
       "      <td>1</td>\n",
       "      <td>C412403</td>\n",
       "      <td>8cd49b13-f45a-4b47-a2bd-173ffa932c2f</td>\n",
       "      <td>3a83ddb66e2ae73798bdf1d705dc0932</td>\n",
       "      <td>Eva</td>\n",
       "      <td>AL</td>\n",
       "      <td>Morgan</td>\n",
       "      <td>35621</td>\n",
       "      <td>34.34960</td>\n",
       "      <td>-86.72508</td>\n",
       "      <td>2951</td>\n",
       "      <td>Suburban</td>\n",
       "      <td>America/Chicago</td>\n",
       "      <td>Psychologist, sport and exercise</td>\n",
       "      <td>1.0</td>\n",
       "      <td>53.0</td>\n",
       "      <td>Some College, Less than 1 Year</td>\n",
       "      <td>Full Time</td>\n",
       "      <td>86575.93</td>\n",
       "      <td>Divorced</td>\n",
       "      <td>Male</td>\n",
       "      <td>No</td>\n",
       "      <td>17.802330</td>\n",
       "      <td>6</td>\n",
       "      <td>0</td>\n",
       "      <td>0</td>\n",
       "      <td>NaN</td>\n",
       "      <td>Emergency Admission</td>\n",
       "      <td>Yes</td>\n",
       "      <td>No</td>\n",
       "      <td>Medium</td>\n",
       "      <td>0.0</td>\n",
       "      <td>Yes</td>\n",
       "      <td>Yes</td>\n",
       "      <td>No</td>\n",
       "      <td>Yes</td>\n",
       "      <td>1.0</td>\n",
       "      <td>Yes</td>\n",
       "      <td>No</td>\n",
       "      <td>Yes</td>\n",
       "      <td>Blood Work</td>\n",
       "      <td>10.585770</td>\n",
       "      <td>3191.048774</td>\n",
       "      <td>17939.403420</td>\n",
       "      <td>3</td>\n",
       "      <td>3</td>\n",
       "      <td>2</td>\n",
       "      <td>2</td>\n",
       "      <td>4</td>\n",
       "      <td>3</td>\n",
       "      <td>3</td>\n",
       "      <td>4</td>\n",
       "    </tr>\n",
       "    <tr>\n",
       "      <th>2</th>\n",
       "      <td>2</td>\n",
       "      <td>Z919181</td>\n",
       "      <td>d2450b70-0337-4406-bdbb-bc1037f1734c</td>\n",
       "      <td>176354c5eef714957d486009feabf195</td>\n",
       "      <td>Marianna</td>\n",
       "      <td>FL</td>\n",
       "      <td>Jackson</td>\n",
       "      <td>32446</td>\n",
       "      <td>30.84513</td>\n",
       "      <td>-85.22907</td>\n",
       "      <td>11303</td>\n",
       "      <td>Urban</td>\n",
       "      <td>America/Chicago</td>\n",
       "      <td>Community development worker</td>\n",
       "      <td>3.0</td>\n",
       "      <td>51.0</td>\n",
       "      <td>Some College, 1 or More Years, No Degree</td>\n",
       "      <td>Full Time</td>\n",
       "      <td>46805.99</td>\n",
       "      <td>Married</td>\n",
       "      <td>Female</td>\n",
       "      <td>No</td>\n",
       "      <td>18.994640</td>\n",
       "      <td>4</td>\n",
       "      <td>2</td>\n",
       "      <td>1</td>\n",
       "      <td>No</td>\n",
       "      <td>Emergency Admission</td>\n",
       "      <td>Yes</td>\n",
       "      <td>No</td>\n",
       "      <td>High</td>\n",
       "      <td>1.0</td>\n",
       "      <td>No</td>\n",
       "      <td>No</td>\n",
       "      <td>No</td>\n",
       "      <td>No</td>\n",
       "      <td>NaN</td>\n",
       "      <td>No</td>\n",
       "      <td>Yes</td>\n",
       "      <td>No</td>\n",
       "      <td>Intravenous</td>\n",
       "      <td>15.129562</td>\n",
       "      <td>4214.905346</td>\n",
       "      <td>17612.998120</td>\n",
       "      <td>3</td>\n",
       "      <td>4</td>\n",
       "      <td>3</td>\n",
       "      <td>4</td>\n",
       "      <td>4</td>\n",
       "      <td>4</td>\n",
       "      <td>3</td>\n",
       "      <td>3</td>\n",
       "    </tr>\n",
       "    <tr>\n",
       "      <th>3</th>\n",
       "      <td>3</td>\n",
       "      <td>F995323</td>\n",
       "      <td>a2057123-abf5-4a2c-abad-8ffe33512562</td>\n",
       "      <td>e19a0fa00aeda885b8a436757e889bc9</td>\n",
       "      <td>Sioux Falls</td>\n",
       "      <td>SD</td>\n",
       "      <td>Minnehaha</td>\n",
       "      <td>57110</td>\n",
       "      <td>43.54321</td>\n",
       "      <td>-96.63772</td>\n",
       "      <td>17125</td>\n",
       "      <td>Suburban</td>\n",
       "      <td>America/Chicago</td>\n",
       "      <td>Chief Executive Officer</td>\n",
       "      <td>3.0</td>\n",
       "      <td>53.0</td>\n",
       "      <td>Some College, 1 or More Years, No Degree</td>\n",
       "      <td>Retired</td>\n",
       "      <td>14370.14</td>\n",
       "      <td>Widowed</td>\n",
       "      <td>Female</td>\n",
       "      <td>No</td>\n",
       "      <td>17.415889</td>\n",
       "      <td>4</td>\n",
       "      <td>1</td>\n",
       "      <td>0</td>\n",
       "      <td>No</td>\n",
       "      <td>Elective Admission</td>\n",
       "      <td>Yes</td>\n",
       "      <td>No</td>\n",
       "      <td>Medium</td>\n",
       "      <td>1.0</td>\n",
       "      <td>No</td>\n",
       "      <td>Yes</td>\n",
       "      <td>No</td>\n",
       "      <td>No</td>\n",
       "      <td>NaN</td>\n",
       "      <td>No</td>\n",
       "      <td>No</td>\n",
       "      <td>No</td>\n",
       "      <td>Blood Work</td>\n",
       "      <td>4.772177</td>\n",
       "      <td>2177.586768</td>\n",
       "      <td>17505.192460</td>\n",
       "      <td>2</td>\n",
       "      <td>4</td>\n",
       "      <td>4</td>\n",
       "      <td>4</td>\n",
       "      <td>3</td>\n",
       "      <td>4</td>\n",
       "      <td>3</td>\n",
       "      <td>3</td>\n",
       "    </tr>\n",
       "    <tr>\n",
       "      <th>4</th>\n",
       "      <td>4</td>\n",
       "      <td>A879973</td>\n",
       "      <td>1dec528d-eb34-4079-adce-0d7a40e82205</td>\n",
       "      <td>cd17d7b6d152cb6f23957346d11c3f07</td>\n",
       "      <td>New Richland</td>\n",
       "      <td>MN</td>\n",
       "      <td>Waseca</td>\n",
       "      <td>56072</td>\n",
       "      <td>43.89744</td>\n",
       "      <td>-93.51479</td>\n",
       "      <td>2162</td>\n",
       "      <td>Suburban</td>\n",
       "      <td>America/Chicago</td>\n",
       "      <td>Early years teacher</td>\n",
       "      <td>0.0</td>\n",
       "      <td>78.0</td>\n",
       "      <td>GED or Alternative Credential</td>\n",
       "      <td>Retired</td>\n",
       "      <td>39741.49</td>\n",
       "      <td>Married</td>\n",
       "      <td>Male</td>\n",
       "      <td>No</td>\n",
       "      <td>17.420079</td>\n",
       "      <td>4</td>\n",
       "      <td>1</td>\n",
       "      <td>0</td>\n",
       "      <td>No</td>\n",
       "      <td>Elective Admission</td>\n",
       "      <td>No</td>\n",
       "      <td>Yes</td>\n",
       "      <td>Medium</td>\n",
       "      <td>0.0</td>\n",
       "      <td>Yes</td>\n",
       "      <td>No</td>\n",
       "      <td>No</td>\n",
       "      <td>No</td>\n",
       "      <td>NaN</td>\n",
       "      <td>No</td>\n",
       "      <td>Yes</td>\n",
       "      <td>Yes</td>\n",
       "      <td>Blood Work</td>\n",
       "      <td>1.714879</td>\n",
       "      <td>2465.118965</td>\n",
       "      <td>12993.437350</td>\n",
       "      <td>3</td>\n",
       "      <td>5</td>\n",
       "      <td>5</td>\n",
       "      <td>3</td>\n",
       "      <td>4</td>\n",
       "      <td>5</td>\n",
       "      <td>5</td>\n",
       "      <td>5</td>\n",
       "    </tr>\n",
       "    <tr>\n",
       "      <th>5</th>\n",
       "      <td>5</td>\n",
       "      <td>C544523</td>\n",
       "      <td>5885f56b-d6da-43a3-8760-83583af94266</td>\n",
       "      <td>d2f0425877b10ed6bb381f3e2579424a</td>\n",
       "      <td>West Point</td>\n",
       "      <td>VA</td>\n",
       "      <td>King William</td>\n",
       "      <td>23181</td>\n",
       "      <td>37.59894</td>\n",
       "      <td>-76.88958</td>\n",
       "      <td>5287</td>\n",
       "      <td>Rural</td>\n",
       "      <td>America/New_York</td>\n",
       "      <td>Health promotion specialist</td>\n",
       "      <td>NaN</td>\n",
       "      <td>22.0</td>\n",
       "      <td>Regular High School Diploma</td>\n",
       "      <td>Full Time</td>\n",
       "      <td>1209.56</td>\n",
       "      <td>Widowed</td>\n",
       "      <td>Female</td>\n",
       "      <td>No</td>\n",
       "      <td>16.870524</td>\n",
       "      <td>5</td>\n",
       "      <td>0</td>\n",
       "      <td>2</td>\n",
       "      <td>Yes</td>\n",
       "      <td>Elective Admission</td>\n",
       "      <td>No</td>\n",
       "      <td>No</td>\n",
       "      <td>Low</td>\n",
       "      <td>0.0</td>\n",
       "      <td>No</td>\n",
       "      <td>No</td>\n",
       "      <td>Yes</td>\n",
       "      <td>No</td>\n",
       "      <td>0.0</td>\n",
       "      <td>Yes</td>\n",
       "      <td>No</td>\n",
       "      <td>No</td>\n",
       "      <td>CT Scan</td>\n",
       "      <td>1.254807</td>\n",
       "      <td>1885.655137</td>\n",
       "      <td>3716.525786</td>\n",
       "      <td>2</td>\n",
       "      <td>1</td>\n",
       "      <td>3</td>\n",
       "      <td>3</td>\n",
       "      <td>5</td>\n",
       "      <td>3</td>\n",
       "      <td>4</td>\n",
       "      <td>3</td>\n",
       "    </tr>\n",
       "    <tr>\n",
       "      <th>...</th>\n",
       "      <td>...</td>\n",
       "      <td>...</td>\n",
       "      <td>...</td>\n",
       "      <td>...</td>\n",
       "      <td>...</td>\n",
       "      <td>...</td>\n",
       "      <td>...</td>\n",
       "      <td>...</td>\n",
       "      <td>...</td>\n",
       "      <td>...</td>\n",
       "      <td>...</td>\n",
       "      <td>...</td>\n",
       "      <td>...</td>\n",
       "      <td>...</td>\n",
       "      <td>...</td>\n",
       "      <td>...</td>\n",
       "      <td>...</td>\n",
       "      <td>...</td>\n",
       "      <td>...</td>\n",
       "      <td>...</td>\n",
       "      <td>...</td>\n",
       "      <td>...</td>\n",
       "      <td>...</td>\n",
       "      <td>...</td>\n",
       "      <td>...</td>\n",
       "      <td>...</td>\n",
       "      <td>...</td>\n",
       "      <td>...</td>\n",
       "      <td>...</td>\n",
       "      <td>...</td>\n",
       "      <td>...</td>\n",
       "      <td>...</td>\n",
       "      <td>...</td>\n",
       "      <td>...</td>\n",
       "      <td>...</td>\n",
       "      <td>...</td>\n",
       "      <td>...</td>\n",
       "      <td>...</td>\n",
       "      <td>...</td>\n",
       "      <td>...</td>\n",
       "      <td>...</td>\n",
       "      <td>...</td>\n",
       "      <td>...</td>\n",
       "      <td>...</td>\n",
       "      <td>...</td>\n",
       "      <td>...</td>\n",
       "      <td>...</td>\n",
       "      <td>...</td>\n",
       "      <td>...</td>\n",
       "      <td>...</td>\n",
       "      <td>...</td>\n",
       "      <td>...</td>\n",
       "    </tr>\n",
       "    <tr>\n",
       "      <th>9996</th>\n",
       "      <td>9996</td>\n",
       "      <td>B863060</td>\n",
       "      <td>a25b594d-0328-486f-a9b9-0567eb0f9723</td>\n",
       "      <td>39184dc28cc038871912ccc4500049e5</td>\n",
       "      <td>Norlina</td>\n",
       "      <td>NC</td>\n",
       "      <td>Warren</td>\n",
       "      <td>27563</td>\n",
       "      <td>36.42886</td>\n",
       "      <td>-78.23716</td>\n",
       "      <td>4762</td>\n",
       "      <td>Urban</td>\n",
       "      <td>America/New_York</td>\n",
       "      <td>Programmer, multimedia</td>\n",
       "      <td>NaN</td>\n",
       "      <td>25.0</td>\n",
       "      <td>Bachelor's Degree</td>\n",
       "      <td>Student</td>\n",
       "      <td>45967.61</td>\n",
       "      <td>Widowed</td>\n",
       "      <td>Male</td>\n",
       "      <td>No</td>\n",
       "      <td>16.481612</td>\n",
       "      <td>4</td>\n",
       "      <td>2</td>\n",
       "      <td>1</td>\n",
       "      <td>No</td>\n",
       "      <td>Emergency Admission</td>\n",
       "      <td>Yes</td>\n",
       "      <td>No</td>\n",
       "      <td>Medium</td>\n",
       "      <td>NaN</td>\n",
       "      <td>No</td>\n",
       "      <td>No</td>\n",
       "      <td>No</td>\n",
       "      <td>No</td>\n",
       "      <td>1.0</td>\n",
       "      <td>No</td>\n",
       "      <td>Yes</td>\n",
       "      <td>No</td>\n",
       "      <td>Intravenous</td>\n",
       "      <td>51.561217</td>\n",
       "      <td>6651.241294</td>\n",
       "      <td>8927.642189</td>\n",
       "      <td>3</td>\n",
       "      <td>2</td>\n",
       "      <td>2</td>\n",
       "      <td>3</td>\n",
       "      <td>4</td>\n",
       "      <td>3</td>\n",
       "      <td>4</td>\n",
       "      <td>2</td>\n",
       "    </tr>\n",
       "    <tr>\n",
       "      <th>9997</th>\n",
       "      <td>9997</td>\n",
       "      <td>P712040</td>\n",
       "      <td>70711574-f7b1-4a17-b15f-48c54564b70f</td>\n",
       "      <td>3cd124ccd43147404292e883bf9ec55c</td>\n",
       "      <td>Milmay</td>\n",
       "      <td>NJ</td>\n",
       "      <td>Atlantic</td>\n",
       "      <td>8340</td>\n",
       "      <td>39.43609</td>\n",
       "      <td>-74.87302</td>\n",
       "      <td>1251</td>\n",
       "      <td>Urban</td>\n",
       "      <td>America/New_York</td>\n",
       "      <td>Restaurant manager, fast food</td>\n",
       "      <td>4.0</td>\n",
       "      <td>87.0</td>\n",
       "      <td>Regular High School Diploma</td>\n",
       "      <td>Full Time</td>\n",
       "      <td>14983.02</td>\n",
       "      <td>Widowed</td>\n",
       "      <td>Male</td>\n",
       "      <td>Yes</td>\n",
       "      <td>18.451601</td>\n",
       "      <td>5</td>\n",
       "      <td>0</td>\n",
       "      <td>0</td>\n",
       "      <td>No</td>\n",
       "      <td>Elective Admission</td>\n",
       "      <td>Yes</td>\n",
       "      <td>No</td>\n",
       "      <td>Medium</td>\n",
       "      <td>1.0</td>\n",
       "      <td>Yes</td>\n",
       "      <td>Yes</td>\n",
       "      <td>No</td>\n",
       "      <td>No</td>\n",
       "      <td>0.0</td>\n",
       "      <td>No</td>\n",
       "      <td>No</td>\n",
       "      <td>Yes</td>\n",
       "      <td>CT Scan</td>\n",
       "      <td>68.668237</td>\n",
       "      <td>7851.522660</td>\n",
       "      <td>28507.147340</td>\n",
       "      <td>3</td>\n",
       "      <td>3</td>\n",
       "      <td>4</td>\n",
       "      <td>2</td>\n",
       "      <td>5</td>\n",
       "      <td>3</td>\n",
       "      <td>4</td>\n",
       "      <td>4</td>\n",
       "    </tr>\n",
       "    <tr>\n",
       "      <th>9998</th>\n",
       "      <td>9998</td>\n",
       "      <td>R778890</td>\n",
       "      <td>1d79569d-8e0f-4180-a207-d67ee4527d26</td>\n",
       "      <td>41b770aeee97a5b9e7f69c906a8119d7</td>\n",
       "      <td>Southside</td>\n",
       "      <td>TN</td>\n",
       "      <td>Montgomery</td>\n",
       "      <td>37171</td>\n",
       "      <td>36.36655</td>\n",
       "      <td>-87.29988</td>\n",
       "      <td>532</td>\n",
       "      <td>Rural</td>\n",
       "      <td>America/Chicago</td>\n",
       "      <td>Psychologist, occupational</td>\n",
       "      <td>3.0</td>\n",
       "      <td>NaN</td>\n",
       "      <td>Regular High School Diploma</td>\n",
       "      <td>Full Time</td>\n",
       "      <td>65917.81</td>\n",
       "      <td>Separated</td>\n",
       "      <td>Female</td>\n",
       "      <td>Yes</td>\n",
       "      <td>15.752751</td>\n",
       "      <td>4</td>\n",
       "      <td>2</td>\n",
       "      <td>0</td>\n",
       "      <td>Yes</td>\n",
       "      <td>Elective Admission</td>\n",
       "      <td>Yes</td>\n",
       "      <td>No</td>\n",
       "      <td>High</td>\n",
       "      <td>1.0</td>\n",
       "      <td>No</td>\n",
       "      <td>No</td>\n",
       "      <td>No</td>\n",
       "      <td>No</td>\n",
       "      <td>1.0</td>\n",
       "      <td>Yes</td>\n",
       "      <td>No</td>\n",
       "      <td>No</td>\n",
       "      <td>Intravenous</td>\n",
       "      <td>NaN</td>\n",
       "      <td>7725.953391</td>\n",
       "      <td>15281.214660</td>\n",
       "      <td>3</td>\n",
       "      <td>3</td>\n",
       "      <td>3</td>\n",
       "      <td>4</td>\n",
       "      <td>4</td>\n",
       "      <td>2</td>\n",
       "      <td>3</td>\n",
       "      <td>2</td>\n",
       "    </tr>\n",
       "    <tr>\n",
       "      <th>9999</th>\n",
       "      <td>9999</td>\n",
       "      <td>E344109</td>\n",
       "      <td>f5a68e69-2a60-409b-a92f-ac0847b27db0</td>\n",
       "      <td>2bb491ef5b1beb1fed758cc6885c167a</td>\n",
       "      <td>Quinn</td>\n",
       "      <td>SD</td>\n",
       "      <td>Pennington</td>\n",
       "      <td>57775</td>\n",
       "      <td>44.10354</td>\n",
       "      <td>-102.01593</td>\n",
       "      <td>271</td>\n",
       "      <td>Rural</td>\n",
       "      <td>America/Denver</td>\n",
       "      <td>Outdoor activities/education manager</td>\n",
       "      <td>3.0</td>\n",
       "      <td>43.0</td>\n",
       "      <td>Bachelor's Degree</td>\n",
       "      <td>Full Time</td>\n",
       "      <td>29702.32</td>\n",
       "      <td>Divorced</td>\n",
       "      <td>Male</td>\n",
       "      <td>Yes</td>\n",
       "      <td>21.956305</td>\n",
       "      <td>5</td>\n",
       "      <td>2</td>\n",
       "      <td>1</td>\n",
       "      <td>No</td>\n",
       "      <td>Emergency Admission</td>\n",
       "      <td>No</td>\n",
       "      <td>No</td>\n",
       "      <td>Medium</td>\n",
       "      <td>1.0</td>\n",
       "      <td>No</td>\n",
       "      <td>No</td>\n",
       "      <td>No</td>\n",
       "      <td>Yes</td>\n",
       "      <td>0.0</td>\n",
       "      <td>No</td>\n",
       "      <td>No</td>\n",
       "      <td>No</td>\n",
       "      <td>Blood Work</td>\n",
       "      <td>63.356903</td>\n",
       "      <td>8462.831883</td>\n",
       "      <td>7781.678412</td>\n",
       "      <td>5</td>\n",
       "      <td>5</td>\n",
       "      <td>3</td>\n",
       "      <td>4</td>\n",
       "      <td>4</td>\n",
       "      <td>3</td>\n",
       "      <td>4</td>\n",
       "      <td>3</td>\n",
       "    </tr>\n",
       "    <tr>\n",
       "      <th>10000</th>\n",
       "      <td>10000</td>\n",
       "      <td>I569847</td>\n",
       "      <td>bc482c02-f8c9-4423-99de-3db5e62a18d5</td>\n",
       "      <td>95663a202338000abdf7e09311c2a8a1</td>\n",
       "      <td>Coraopolis</td>\n",
       "      <td>PA</td>\n",
       "      <td>Allegheny</td>\n",
       "      <td>15108</td>\n",
       "      <td>40.49998</td>\n",
       "      <td>-80.19959</td>\n",
       "      <td>41524</td>\n",
       "      <td>Urban</td>\n",
       "      <td>America/New_York</td>\n",
       "      <td>Sports development officer</td>\n",
       "      <td>8.0</td>\n",
       "      <td>NaN</td>\n",
       "      <td>9th Grade to 12th Grade, No Diploma</td>\n",
       "      <td>Full Time</td>\n",
       "      <td>62682.63</td>\n",
       "      <td>Separated</td>\n",
       "      <td>Female</td>\n",
       "      <td>Yes</td>\n",
       "      <td>20.421883</td>\n",
       "      <td>5</td>\n",
       "      <td>0</td>\n",
       "      <td>1</td>\n",
       "      <td>No</td>\n",
       "      <td>Observation Admission</td>\n",
       "      <td>No</td>\n",
       "      <td>No</td>\n",
       "      <td>Low</td>\n",
       "      <td>1.0</td>\n",
       "      <td>Yes</td>\n",
       "      <td>No</td>\n",
       "      <td>Yes</td>\n",
       "      <td>No</td>\n",
       "      <td>0.0</td>\n",
       "      <td>Yes</td>\n",
       "      <td>No</td>\n",
       "      <td>No</td>\n",
       "      <td>Blood Work</td>\n",
       "      <td>70.850592</td>\n",
       "      <td>8700.856021</td>\n",
       "      <td>11643.189930</td>\n",
       "      <td>4</td>\n",
       "      <td>3</td>\n",
       "      <td>3</td>\n",
       "      <td>2</td>\n",
       "      <td>3</td>\n",
       "      <td>6</td>\n",
       "      <td>4</td>\n",
       "      <td>3</td>\n",
       "    </tr>\n",
       "  </tbody>\n",
       "</table>\n",
       "<p>10000 rows × 52 columns</p>\n",
       "</div>"
      ],
      "text/plain": [
       "       CaseOrder Customer_id                           Interaction  \\\n",
       "1              1     C412403  8cd49b13-f45a-4b47-a2bd-173ffa932c2f   \n",
       "2              2     Z919181  d2450b70-0337-4406-bdbb-bc1037f1734c   \n",
       "3              3     F995323  a2057123-abf5-4a2c-abad-8ffe33512562   \n",
       "4              4     A879973  1dec528d-eb34-4079-adce-0d7a40e82205   \n",
       "5              5     C544523  5885f56b-d6da-43a3-8760-83583af94266   \n",
       "...          ...         ...                                   ...   \n",
       "9996        9996     B863060  a25b594d-0328-486f-a9b9-0567eb0f9723   \n",
       "9997        9997     P712040  70711574-f7b1-4a17-b15f-48c54564b70f   \n",
       "9998        9998     R778890  1d79569d-8e0f-4180-a207-d67ee4527d26   \n",
       "9999        9999     E344109  f5a68e69-2a60-409b-a92f-ac0847b27db0   \n",
       "10000      10000     I569847  bc482c02-f8c9-4423-99de-3db5e62a18d5   \n",
       "\n",
       "                                    UID          City State        County  \\\n",
       "1      3a83ddb66e2ae73798bdf1d705dc0932           Eva    AL        Morgan   \n",
       "2      176354c5eef714957d486009feabf195      Marianna    FL       Jackson   \n",
       "3      e19a0fa00aeda885b8a436757e889bc9   Sioux Falls    SD     Minnehaha   \n",
       "4      cd17d7b6d152cb6f23957346d11c3f07  New Richland    MN        Waseca   \n",
       "5      d2f0425877b10ed6bb381f3e2579424a    West Point    VA  King William   \n",
       "...                                 ...           ...   ...           ...   \n",
       "9996   39184dc28cc038871912ccc4500049e5       Norlina    NC        Warren   \n",
       "9997   3cd124ccd43147404292e883bf9ec55c        Milmay    NJ      Atlantic   \n",
       "9998   41b770aeee97a5b9e7f69c906a8119d7     Southside    TN    Montgomery   \n",
       "9999   2bb491ef5b1beb1fed758cc6885c167a         Quinn    SD    Pennington   \n",
       "10000  95663a202338000abdf7e09311c2a8a1    Coraopolis    PA     Allegheny   \n",
       "\n",
       "         Zip       Lat        Lng  Population      Area          Timezone  \\\n",
       "1      35621  34.34960  -86.72508        2951  Suburban   America/Chicago   \n",
       "2      32446  30.84513  -85.22907       11303     Urban   America/Chicago   \n",
       "3      57110  43.54321  -96.63772       17125  Suburban   America/Chicago   \n",
       "4      56072  43.89744  -93.51479        2162  Suburban   America/Chicago   \n",
       "5      23181  37.59894  -76.88958        5287     Rural  America/New_York   \n",
       "...      ...       ...        ...         ...       ...               ...   \n",
       "9996   27563  36.42886  -78.23716        4762     Urban  America/New_York   \n",
       "9997    8340  39.43609  -74.87302        1251     Urban  America/New_York   \n",
       "9998   37171  36.36655  -87.29988         532     Rural   America/Chicago   \n",
       "9999   57775  44.10354 -102.01593         271     Rural    America/Denver   \n",
       "10000  15108  40.49998  -80.19959       41524     Urban  America/New_York   \n",
       "\n",
       "                                        Job  Children   Age  \\\n",
       "1          Psychologist, sport and exercise       1.0  53.0   \n",
       "2              Community development worker       3.0  51.0   \n",
       "3                   Chief Executive Officer       3.0  53.0   \n",
       "4                       Early years teacher       0.0  78.0   \n",
       "5               Health promotion specialist       NaN  22.0   \n",
       "...                                     ...       ...   ...   \n",
       "9996                 Programmer, multimedia       NaN  25.0   \n",
       "9997          Restaurant manager, fast food       4.0  87.0   \n",
       "9998             Psychologist, occupational       3.0   NaN   \n",
       "9999   Outdoor activities/education manager       3.0  43.0   \n",
       "10000            Sports development officer       8.0   NaN   \n",
       "\n",
       "                                      Education Employment    Income  \\\n",
       "1                Some College, Less than 1 Year  Full Time  86575.93   \n",
       "2      Some College, 1 or More Years, No Degree  Full Time  46805.99   \n",
       "3      Some College, 1 or More Years, No Degree    Retired  14370.14   \n",
       "4                 GED or Alternative Credential    Retired  39741.49   \n",
       "5                   Regular High School Diploma  Full Time   1209.56   \n",
       "...                                         ...        ...       ...   \n",
       "9996                          Bachelor's Degree    Student  45967.61   \n",
       "9997                Regular High School Diploma  Full Time  14983.02   \n",
       "9998                Regular High School Diploma  Full Time  65917.81   \n",
       "9999                          Bachelor's Degree  Full Time  29702.32   \n",
       "10000       9th Grade to 12th Grade, No Diploma  Full Time  62682.63   \n",
       "\n",
       "         Marital  Gender ReAdmis  VitD_levels  Doc_visits  Full_meals_eaten  \\\n",
       "1       Divorced    Male      No    17.802330           6                 0   \n",
       "2        Married  Female      No    18.994640           4                 2   \n",
       "3        Widowed  Female      No    17.415889           4                 1   \n",
       "4        Married    Male      No    17.420079           4                 1   \n",
       "5        Widowed  Female      No    16.870524           5                 0   \n",
       "...          ...     ...     ...          ...         ...               ...   \n",
       "9996     Widowed    Male      No    16.481612           4                 2   \n",
       "9997     Widowed    Male     Yes    18.451601           5                 0   \n",
       "9998   Separated  Female     Yes    15.752751           4                 2   \n",
       "9999    Divorced    Male     Yes    21.956305           5                 2   \n",
       "10000  Separated  Female     Yes    20.421883           5                 0   \n",
       "\n",
       "       VitD_supp Soft_drink          Initial_admin HighBlood Stroke  \\\n",
       "1              0        NaN    Emergency Admission       Yes     No   \n",
       "2              1         No    Emergency Admission       Yes     No   \n",
       "3              0         No     Elective Admission       Yes     No   \n",
       "4              0         No     Elective Admission        No    Yes   \n",
       "5              2        Yes     Elective Admission        No     No   \n",
       "...          ...        ...                    ...       ...    ...   \n",
       "9996           1         No    Emergency Admission       Yes     No   \n",
       "9997           0         No     Elective Admission       Yes     No   \n",
       "9998           0        Yes     Elective Admission       Yes     No   \n",
       "9999           1         No    Emergency Admission        No     No   \n",
       "10000          1         No  Observation Admission        No     No   \n",
       "\n",
       "      Complication_risk  Overweight Arthritis Diabetes Hyperlipidemia  \\\n",
       "1                Medium         0.0       Yes      Yes             No   \n",
       "2                  High         1.0        No       No             No   \n",
       "3                Medium         1.0        No      Yes             No   \n",
       "4                Medium         0.0       Yes       No             No   \n",
       "5                   Low         0.0        No       No            Yes   \n",
       "...                 ...         ...       ...      ...            ...   \n",
       "9996             Medium         NaN        No       No             No   \n",
       "9997             Medium         1.0       Yes      Yes             No   \n",
       "9998               High         1.0        No       No             No   \n",
       "9999             Medium         1.0        No       No             No   \n",
       "10000               Low         1.0       Yes       No            Yes   \n",
       "\n",
       "      BackPain  Anxiety Allergic_rhinitis Reflux_esophagitis Asthma  \\\n",
       "1          Yes      1.0               Yes                 No    Yes   \n",
       "2           No      NaN                No                Yes     No   \n",
       "3           No      NaN                No                 No     No   \n",
       "4           No      NaN                No                Yes    Yes   \n",
       "5           No      0.0               Yes                 No     No   \n",
       "...        ...      ...               ...                ...    ...   \n",
       "9996        No      1.0                No                Yes     No   \n",
       "9997        No      0.0                No                 No    Yes   \n",
       "9998        No      1.0               Yes                 No     No   \n",
       "9999       Yes      0.0                No                 No     No   \n",
       "10000       No      0.0               Yes                 No     No   \n",
       "\n",
       "          Services  Initial_days  TotalCharge  Additional_charges  Item1  \\\n",
       "1       Blood Work     10.585770  3191.048774        17939.403420      3   \n",
       "2      Intravenous     15.129562  4214.905346        17612.998120      3   \n",
       "3       Blood Work      4.772177  2177.586768        17505.192460      2   \n",
       "4       Blood Work      1.714879  2465.118965        12993.437350      3   \n",
       "5          CT Scan      1.254807  1885.655137         3716.525786      2   \n",
       "...            ...           ...          ...                 ...    ...   \n",
       "9996   Intravenous     51.561217  6651.241294         8927.642189      3   \n",
       "9997       CT Scan     68.668237  7851.522660        28507.147340      3   \n",
       "9998   Intravenous           NaN  7725.953391        15281.214660      3   \n",
       "9999    Blood Work     63.356903  8462.831883         7781.678412      5   \n",
       "10000   Blood Work     70.850592  8700.856021        11643.189930      4   \n",
       "\n",
       "       Item2  Item3  Item4  Item5  Item6  Item7  Item8  \n",
       "1          3      2      2      4      3      3      4  \n",
       "2          4      3      4      4      4      3      3  \n",
       "3          4      4      4      3      4      3      3  \n",
       "4          5      5      3      4      5      5      5  \n",
       "5          1      3      3      5      3      4      3  \n",
       "...      ...    ...    ...    ...    ...    ...    ...  \n",
       "9996       2      2      3      4      3      4      2  \n",
       "9997       3      4      2      5      3      4      4  \n",
       "9998       3      3      4      4      2      3      2  \n",
       "9999       5      3      4      4      3      4      3  \n",
       "10000      3      3      2      3      6      4      3  \n",
       "\n",
       "[10000 rows x 52 columns]"
      ]
     },
     "execution_count": 12,
     "metadata": {},
     "output_type": "execute_result"
    }
   ],
   "source": [
    "# inspect dataframe to spot problems\n",
    "pd.set_option(\"display.max_columns\", None)\n",
    "df"
   ]
  },
  {
   "cell_type": "code",
   "execution_count": 13,
   "id": "a3c369ad-7191-438a-8c66-7502a5106202",
   "metadata": {
    "tags": []
   },
   "outputs": [
    {
     "data": {
      "text/plain": [
       "10000"
      ]
     },
     "execution_count": 13,
     "metadata": {},
     "output_type": "execute_result"
    }
   ],
   "source": [
    "## Verify the CaseOrder is unique (10,000 results)\n",
    "df.CaseOrder.value_counts().count()"
   ]
  },
  {
   "cell_type": "code",
   "execution_count": 14,
   "id": "ad3c3d1f-3707-46b7-9811-d19794ad3c58",
   "metadata": {
    "tags": []
   },
   "outputs": [
    {
     "data": {
      "text/plain": [
       "10000"
      ]
     },
     "execution_count": 14,
     "metadata": {},
     "output_type": "execute_result"
    }
   ],
   "source": [
    "## Verify the Customer variable is unique (10,000 results)\n",
    "\n",
    "df.Customer_id.value_counts().count()\n"
   ]
  },
  {
   "cell_type": "code",
   "execution_count": 15,
   "id": "1de8fdc5-3313-43e7-a42e-63486fe6ee1c",
   "metadata": {
    "tags": []
   },
   "outputs": [
    {
     "data": {
      "text/plain": [
       "10000"
      ]
     },
     "execution_count": 15,
     "metadata": {},
     "output_type": "execute_result"
    }
   ],
   "source": [
    "# Verify Interaction is unique (10,000 results)\n",
    "df.Interaction.value_counts().count()"
   ]
  },
  {
   "cell_type": "code",
   "execution_count": 16,
   "id": "7bbd19d8-2306-4b8a-befd-e1cf9fa1fcb8",
   "metadata": {
    "tags": []
   },
   "outputs": [
    {
     "data": {
      "text/plain": [
       "10000"
      ]
     },
     "execution_count": 16,
     "metadata": {},
     "output_type": "execute_result"
    }
   ],
   "source": [
    "# Verify UID is unique (10,000 results)\n",
    "df.UID.value_counts().count()\n"
   ]
  },
  {
   "cell_type": "code",
   "execution_count": 17,
   "id": "ea17164c-f63f-4be6-b357-b832cd6415fe",
   "metadata": {
    "tags": []
   },
   "outputs": [
    {
     "data": {
      "text/plain": [
       "Area\n",
       "Rural       3369\n",
       "Suburban    3328\n",
       "Urban       3303\n",
       "Name: count, dtype: int64"
      ]
     },
     "execution_count": 17,
     "metadata": {},
     "output_type": "execute_result"
    }
   ],
   "source": [
    "# Make sure values are placed into categorical values\n",
    "df.Area.value_counts()"
   ]
  },
  {
   "cell_type": "code",
   "execution_count": 18,
   "id": "88525809-b55a-4321-b9ba-fb3ba0e5d9ca",
   "metadata": {
    "tags": []
   },
   "outputs": [
    {
     "data": {
      "text/plain": [
       "Timezone\n",
       "America/New_York                  3889\n",
       "America/Chicago                   3771\n",
       "America/Los_Angeles                937\n",
       "America/Denver                     612\n",
       "America/Detroit                    262\n",
       "America/Indiana/Indianapolis       151\n",
       "America/Phoenix                    100\n",
       "America/Boise                       86\n",
       "America/Anchorage                   50\n",
       "America/Puerto_Rico                 43\n",
       "Pacific/Honolulu                    34\n",
       "America/Menominee                   14\n",
       "America/Nome                        12\n",
       "America/Indiana/Vincennes            8\n",
       "America/Kentucky/Louisville          6\n",
       "America/Sitka                        6\n",
       "America/Toronto                      5\n",
       "America/Indiana/Marengo              3\n",
       "America/Indiana/Tell_City            3\n",
       "America/North_Dakota/Beulah          2\n",
       "America/Yakutat                      1\n",
       "America/Indiana/Winamac              1\n",
       "America/Indiana/Knox                 1\n",
       "America/North_Dakota/New_Salem       1\n",
       "America/Indiana/Vevay                1\n",
       "America/Adak                         1\n",
       "Name: count, dtype: int64"
      ]
     },
     "execution_count": 18,
     "metadata": {},
     "output_type": "execute_result"
    }
   ],
   "source": [
    "# Check full range of values,check categorical\n",
    "df.Timezone.value_counts()"
   ]
  },
  {
   "cell_type": "code",
   "execution_count": 19,
   "id": "ce898774-3e3c-48ae-bdcb-ee7eb2ac289e",
   "metadata": {
    "tags": []
   },
   "outputs": [
    {
     "data": {
      "text/plain": [
       "count    7412.000000\n",
       "mean        2.098219\n",
       "std         2.155427\n",
       "min         0.000000\n",
       "25%         0.000000\n",
       "50%         1.000000\n",
       "75%         3.000000\n",
       "max        10.000000\n",
       "Name: Children, dtype: float64"
      ]
     },
     "execution_count": 19,
     "metadata": {},
     "output_type": "execute_result"
    }
   ],
   "source": [
    "# Verify data is within bounds, determine if applicable for datatype Int64\n",
    "df.Children.describe()"
   ]
  },
  {
   "cell_type": "code",
   "execution_count": 20,
   "id": "ed4208d5-99dd-47bb-82b3-3d1771316314",
   "metadata": {
    "tags": []
   },
   "outputs": [
    {
     "data": {
      "text/plain": [
       "count    7586.000000\n",
       "mean       53.295676\n",
       "std        20.659182\n",
       "min        18.000000\n",
       "25%        35.000000\n",
       "50%        53.000000\n",
       "75%        71.000000\n",
       "max        89.000000\n",
       "Name: Age, dtype: float64"
      ]
     },
     "execution_count": 20,
     "metadata": {},
     "output_type": "execute_result"
    }
   ],
   "source": [
    "# Verify data is within bounds, determine if applicable for Int64\n",
    "df.Age.describe()"
   ]
  },
  {
   "cell_type": "code",
   "execution_count": 21,
   "id": "b03f9c39-6985-40c0-81da-9c292e4e2740",
   "metadata": {
    "tags": []
   },
   "outputs": [
    {
     "data": {
      "text/plain": [
       "Education\n",
       "Regular High School Diploma                 2444\n",
       "Bachelor's Degree                           1724\n",
       "Some College, 1 or More Years, No Degree    1484\n",
       "9th Grade to 12th Grade, No Diploma          832\n",
       "Associate's Degree                           797\n",
       "Master's Degree                              701\n",
       "Some College, Less than 1 Year               642\n",
       "Nursery School to 8th Grade                  552\n",
       "GED or Alternative Credential                389\n",
       "Professional School Degree                   208\n",
       "No Schooling Completed                       133\n",
       "Doctorate Degree                              94\n",
       "Name: count, dtype: int64"
      ]
     },
     "execution_count": 21,
     "metadata": {},
     "output_type": "execute_result"
    }
   ],
   "source": [
    "df.Education.value_counts()"
   ]
  },
  {
   "cell_type": "code",
   "execution_count": 22,
   "id": "dadffc30-0e07-42c7-9d57-89b46b5546e6",
   "metadata": {
    "tags": []
   },
   "outputs": [
    {
     "data": {
      "text/plain": [
       "Employment\n",
       "Full Time     6029\n",
       "Student       1017\n",
       "Part Time      991\n",
       "Unemployed     983\n",
       "Retired        980\n",
       "Name: count, dtype: int64"
      ]
     },
     "execution_count": 22,
     "metadata": {},
     "output_type": "execute_result"
    }
   ],
   "source": [
    "# Make sure values are suitable to be categorical\n",
    "df.Employment.value_counts()"
   ]
  },
  {
   "cell_type": "code",
   "execution_count": 23,
   "id": "da60e956-2030-44b9-8fe0-1ac6de60cfbc",
   "metadata": {
    "tags": []
   },
   "outputs": [
    {
     "data": {
      "text/plain": [
       "count      7536.000000\n",
       "mean      40484.438268\n",
       "std       28664.861050\n",
       "min         154.080000\n",
       "25%       19450.792500\n",
       "50%       33942.280000\n",
       "75%       54075.235000\n",
       "max      207249.130000\n",
       "Name: Income, dtype: float64"
      ]
     },
     "execution_count": 23,
     "metadata": {},
     "output_type": "execute_result"
    }
   ],
   "source": [
    "# Verify data is around reasonable bounds\n",
    "df.Income.describe()"
   ]
  },
  {
   "cell_type": "code",
   "execution_count": 24,
   "id": "4af8a844-843d-40f6-8572-9006e8de2ee5",
   "metadata": {
    "tags": []
   },
   "outputs": [
    {
     "data": {
      "text/plain": [
       "822      154.08\n",
       "9809     300.79\n",
       "288      395.23\n",
       "111      401.86\n",
       "8659     493.04\n",
       "9129     695.22\n",
       "5894     702.16\n",
       "1216     826.01\n",
       "6300     881.07\n",
       "1035     881.40\n",
       "3457     953.74\n",
       "6107    1048.43\n",
       "3259    1078.12\n",
       "5       1209.56\n",
       "9088    1277.08\n",
       "9029    1366.98\n",
       "337     1380.70\n",
       "1032    1402.22\n",
       "2331    1409.92\n",
       "9431    1453.90\n",
       "Name: Income, dtype: float64"
      ]
     },
     "execution_count": 24,
     "metadata": {},
     "output_type": "execute_result"
    }
   ],
   "source": [
    "# Those min and max values seem somewhat off, I will look at smallest values\n",
    "df.Income.nsmallest(n=20)"
   ]
  },
  {
   "cell_type": "code",
   "execution_count": 25,
   "id": "1b99a4e0-dc6f-43b1-b11a-37e75c7a0052",
   "metadata": {
    "tags": []
   },
   "outputs": [
    {
     "data": {
      "text/plain": [
       "8387    207249.13\n",
       "842     204542.41\n",
       "8599    203774.65\n",
       "6407    197675.05\n",
       "1779    197576.18\n",
       "7493    196915.63\n",
       "4332    194796.24\n",
       "7245    190110.76\n",
       "4408    189416.27\n",
       "3074    189129.92\n",
       "8530    186752.05\n",
       "9588    179543.68\n",
       "7405    178945.35\n",
       "174     178470.63\n",
       "6695    171680.20\n",
       "623     171288.05\n",
       "9480    171031.21\n",
       "7051    170961.47\n",
       "1109    167286.62\n",
       "31      167105.10\n",
       "Name: Income, dtype: float64"
      ]
     },
     "execution_count": 25,
     "metadata": {},
     "output_type": "execute_result"
    }
   ],
   "source": [
    "# ...and the largest values\n",
    "df.Income.nlargest(n=20)"
   ]
  },
  {
   "cell_type": "code",
   "execution_count": 26,
   "id": "0a68a89b-b95f-49ab-a9ba-6666273feebf",
   "metadata": {
    "tags": []
   },
   "outputs": [
    {
     "data": {
      "text/plain": [
       "Marital\n",
       "Widowed          2045\n",
       "Married          2023\n",
       "Separated        1987\n",
       "Never Married    1984\n",
       "Divorced         1961\n",
       "Name: count, dtype: int64"
      ]
     },
     "execution_count": 26,
     "metadata": {},
     "output_type": "execute_result"
    }
   ],
   "source": [
    "# Make sure values are applicable to be placed categorical\n",
    "df.Marital.value_counts()"
   ]
  },
  {
   "cell_type": "code",
   "execution_count": 27,
   "id": "090f0dbb-978e-4153-b4c7-346dc4504a8c",
   "metadata": {
    "tags": []
   },
   "outputs": [
    {
     "data": {
      "text/plain": [
       "Gender\n",
       "Female                  5018\n",
       "Male                    4768\n",
       "Prefer not to answer     214\n",
       "Name: count, dtype: int64"
      ]
     },
     "execution_count": 27,
     "metadata": {},
     "output_type": "execute_result"
    }
   ],
   "source": [
    "df.Gender.value_counts()"
   ]
  },
  {
   "cell_type": "code",
   "execution_count": 28,
   "id": "5cd964a8-a99c-496b-9f1a-b2cb08aa8715",
   "metadata": {
    "tags": []
   },
   "outputs": [
    {
     "data": {
      "text/plain": [
       "ReAdmis\n",
       "No     6331\n",
       "Yes    3669\n",
       "Name: count, dtype: int64"
      ]
     },
     "execution_count": 28,
     "metadata": {},
     "output_type": "execute_result"
    }
   ],
   "source": [
    "# Make sure REAdmis.values are applicable to be placed boolean\n",
    "df.ReAdmis.value_counts()"
   ]
  },
  {
   "cell_type": "code",
   "execution_count": 29,
   "id": "b75d7e03-82c7-49d3-80b7-aa460ebe13c9",
   "metadata": {
    "tags": []
   },
   "outputs": [
    {
     "data": {
      "text/plain": [
       "count    10000.000000\n",
       "mean        19.412675\n",
       "std          6.723277\n",
       "min          9.519012\n",
       "25%         16.513171\n",
       "50%         18.080560\n",
       "75%         19.789740\n",
       "max         53.019124\n",
       "Name: VitD_levels, dtype: float64"
      ]
     },
     "execution_count": 29,
     "metadata": {},
     "output_type": "execute_result"
    }
   ],
   "source": [
    "# Verify data is in reasonable bounds\n",
    "df.VitD_levels.describe()"
   ]
  },
  {
   "cell_type": "code",
   "execution_count": 30,
   "id": "449702f5-6e28-4959-a2aa-d640657d2c3c",
   "metadata": {
    "tags": []
   },
   "outputs": [
    {
     "data": {
      "text/plain": [
       "1964    53.019124\n",
       "1307    52.757599\n",
       "7158    52.370764\n",
       "7231    52.271584\n",
       "2616    52.156112\n",
       "3474    52.124137\n",
       "7528    52.117337\n",
       "581     52.063590\n",
       "1799    51.671571\n",
       "8682    51.659892\n",
       "448     51.430034\n",
       "2747    51.305309\n",
       "6939    51.216965\n",
       "9908    51.202138\n",
       "5044    51.030046\n",
       "7761    50.958467\n",
       "8358    50.927637\n",
       "2157    50.915519\n",
       "3387    50.888076\n",
       "5596    50.884049\n",
       "Name: VitD_levels, dtype: float64"
      ]
     },
     "execution_count": 30,
     "metadata": {},
     "output_type": "execute_result"
    }
   ],
   "source": [
    "#We might want to reassess the upper limit for VitD_levels, as it appears quite high. \n",
    "#Let's examine the top 20 entries in this column to determine if a value like 53 is within the expected range, considering my limited expertise on the subject.\n",
    "df.VitD_levels.nlargest(n=20)"
   ]
  },
  {
   "cell_type": "code",
   "execution_count": 31,
   "id": "abc34959-eb10-48c1-a048-da99fe3b8dbd",
   "metadata": {
    "tags": []
   },
   "outputs": [
    {
     "data": {
      "text/plain": [
       "count    10000.000000\n",
       "mean         5.012200\n",
       "std          1.045734\n",
       "min          1.000000\n",
       "25%          4.000000\n",
       "50%          5.000000\n",
       "75%          6.000000\n",
       "max          9.000000\n",
       "Name: Doc_visits, dtype: float64"
      ]
     },
     "execution_count": 31,
     "metadata": {},
     "output_type": "execute_result"
    }
   ],
   "source": [
    "# Verify Doc_visits.data is in reasonable bounds\n",
    "df.Doc_visits.describe()"
   ]
  },
  {
   "cell_type": "code",
   "execution_count": 32,
   "id": "4d5c597e-fac0-4764-93cf-2265a07cb409",
   "metadata": {
    "tags": []
   },
   "outputs": [
    {
     "data": {
      "text/plain": [
       "count    10000.000000\n",
       "mean         1.001400\n",
       "std          1.008117\n",
       "min          0.000000\n",
       "25%          0.000000\n",
       "50%          1.000000\n",
       "75%          2.000000\n",
       "max          7.000000\n",
       "Name: Full_meals_eaten, dtype: float64"
      ]
     },
     "execution_count": 32,
     "metadata": {},
     "output_type": "execute_result"
    }
   ],
   "source": [
    "# Verify Full_meals.data is in reasonable bounds\n",
    "df.Full_meals_eaten.describe()"
   ]
  },
  {
   "cell_type": "code",
   "execution_count": 33,
   "id": "a9dd900d-3ca0-48a8-bbb3-8b8574bc70de",
   "metadata": {
    "tags": []
   },
   "outputs": [
    {
     "data": {
      "text/plain": [
       "count    10000.000000\n",
       "mean         0.398900\n",
       "std          0.628505\n",
       "min          0.000000\n",
       "25%          0.000000\n",
       "50%          0.000000\n",
       "75%          1.000000\n",
       "max          5.000000\n",
       "Name: VitD_supp, dtype: float64"
      ]
     },
     "execution_count": 33,
     "metadata": {},
     "output_type": "execute_result"
    }
   ],
   "source": [
    "# Verify VitD_supp.data is in reasonable bounds\n",
    "df.VitD_supp.describe()"
   ]
  },
  {
   "cell_type": "code",
   "execution_count": 34,
   "id": "b1c047db-94e8-4c07-bb15-c8f83a8d8a24",
   "metadata": {
    "tags": []
   },
   "outputs": [
    {
     "data": {
      "text/plain": [
       "Soft_drink\n",
       "No     5589\n",
       "Yes    1944\n",
       "Name: count, dtype: int64"
      ]
     },
     "execution_count": 34,
     "metadata": {},
     "output_type": "execute_result"
    }
   ],
   "source": [
    "\n",
    "# Make sure Soft_drink.values are appropriate to be placed into boolean\n",
    "df.Soft_drink.value_counts()"
   ]
  },
  {
   "cell_type": "code",
   "execution_count": 35,
   "id": "c7ddca3c-ffa7-46f4-846f-3db3479965ff",
   "metadata": {
    "tags": []
   },
   "outputs": [
    {
     "data": {
      "text/plain": [
       "Initial_admin\n",
       "Emergency Admission      5060\n",
       "Elective Admission       2504\n",
       "Observation Admission    2436\n",
       "Name: count, dtype: int64"
      ]
     },
     "execution_count": 35,
     "metadata": {},
     "output_type": "execute_result"
    }
   ],
   "source": [
    "\n",
    "# Make sure values are appropriate to be placed into categorical\n",
    "df.Initial_admin.value_counts()"
   ]
  },
  {
   "cell_type": "code",
   "execution_count": 36,
   "id": "3c495c5d-f85e-4f40-9c3b-4781aa3a2d84",
   "metadata": {
    "tags": []
   },
   "outputs": [
    {
     "data": {
      "text/plain": [
       "HighBlood\n",
       "No     5910\n",
       "Yes    4090\n",
       "Name: count, dtype: int64"
      ]
     },
     "execution_count": 36,
     "metadata": {},
     "output_type": "execute_result"
    }
   ],
   "source": [
    "# Make sure values are appropriate to be placed into boolean\n",
    "df.HighBlood.value_counts()"
   ]
  },
  {
   "cell_type": "code",
   "execution_count": 37,
   "id": "1dff2650-c4f9-489c-98db-e06389f1b1d6",
   "metadata": {
    "tags": []
   },
   "outputs": [
    {
     "data": {
      "text/plain": [
       "Stroke\n",
       "No     8007\n",
       "Yes    1993\n",
       "Name: count, dtype: int64"
      ]
     },
     "execution_count": 37,
     "metadata": {},
     "output_type": "execute_result"
    }
   ],
   "source": [
    "# Make sure values are appropriate to be placed into boolean\n",
    "df.Stroke.value_counts()"
   ]
  },
  {
   "cell_type": "code",
   "execution_count": 38,
   "id": "da6d42eb-786f-42e3-8abf-db62a6397011",
   "metadata": {
    "tags": []
   },
   "outputs": [
    {
     "data": {
      "text/plain": [
       "Complication_risk\n",
       "Medium    4517\n",
       "High      3358\n",
       "Low       2125\n",
       "Name: count, dtype: int64"
      ]
     },
     "execution_count": 38,
     "metadata": {},
     "output_type": "execute_result"
    }
   ],
   "source": [
    "# Make sure complication_risk.values are appropriate to be placed into categorical\n",
    "df.Complication_risk.value_counts()"
   ]
  },
  {
   "cell_type": "code",
   "execution_count": 39,
   "id": "4d4dde87-a0c5-4d48-835a-5106bc59cb0c",
   "metadata": {
    "tags": []
   },
   "outputs": [
    {
     "data": {
      "text/plain": [
       "Overweight\n",
       "1.0    6395\n",
       "0.0    2623\n",
       "Name: count, dtype: int64"
      ]
     },
     "execution_count": 39,
     "metadata": {},
     "output_type": "execute_result"
    }
   ],
   "source": [
    "\n",
    "# Verify Overweight.value exists to be translated into datatype boolean\n",
    "df.Overweight.value_counts()"
   ]
  },
  {
   "cell_type": "code",
   "execution_count": 40,
   "id": "23b12982-1630-4f83-9372-a8dc7ae7f1ac",
   "metadata": {
    "tags": []
   },
   "outputs": [
    {
     "data": {
      "text/plain": [
       "Arthritis\n",
       "No     6426\n",
       "Yes    3574\n",
       "Name: count, dtype: int64"
      ]
     },
     "execution_count": 40,
     "metadata": {},
     "output_type": "execute_result"
    }
   ],
   "source": [
    "# Make sure Arthritis.values are suitable to be placed into datatype boolean\n",
    "df.Arthritis.value_counts()"
   ]
  },
  {
   "cell_type": "code",
   "execution_count": 41,
   "id": "26c126d5-9666-4a08-b1dc-e5f923900bb2",
   "metadata": {
    "tags": []
   },
   "outputs": [
    {
     "data": {
      "text/plain": [
       "Diabetes\n",
       "No     7262\n",
       "Yes    2738\n",
       "Name: count, dtype: int64"
      ]
     },
     "execution_count": 41,
     "metadata": {},
     "output_type": "execute_result"
    }
   ],
   "source": [
    "\n",
    "# Make sure Diabetes.values are suitable to be placed into boolean\n",
    "df.Diabetes.value_counts()"
   ]
  },
  {
   "cell_type": "code",
   "execution_count": 42,
   "id": "00bf26d0-2c62-4490-93ef-ab98f603bbd9",
   "metadata": {
    "tags": []
   },
   "outputs": [
    {
     "data": {
      "text/plain": [
       "Hyperlipidemia\n",
       "No     6628\n",
       "Yes    3372\n",
       "Name: count, dtype: int64"
      ]
     },
     "execution_count": 42,
     "metadata": {},
     "output_type": "execute_result"
    }
   ],
   "source": [
    "# Make sure Hyperlipidemia.values are applicable to be placed into boolean\n",
    "df.Hyperlipidemia.value_counts()"
   ]
  },
  {
   "cell_type": "code",
   "execution_count": 43,
   "id": "c176a7ca-7f89-49cb-bed3-c007ab3ef37f",
   "metadata": {
    "tags": []
   },
   "outputs": [
    {
     "data": {
      "text/plain": [
       "BackPain\n",
       "No     5886\n",
       "Yes    4114\n",
       "Name: count, dtype: int64"
      ]
     },
     "execution_count": 43,
     "metadata": {},
     "output_type": "execute_result"
    }
   ],
   "source": [
    "# Make sure BackPain.values are applicable to be placed into boolean\n",
    "df.BackPain.value_counts()"
   ]
  },
  {
   "cell_type": "code",
   "execution_count": 44,
   "id": "c733189e-da81-4bb7-95cc-c9bed7914f21",
   "metadata": {
    "tags": []
   },
   "outputs": [
    {
     "data": {
      "text/plain": [
       "Anxiety\n",
       "0.0    6110\n",
       "1.0    2906\n",
       "Name: count, dtype: int64"
      ]
     },
     "execution_count": 44,
     "metadata": {},
     "output_type": "execute_result"
    }
   ],
   "source": [
    "# Verify Anxiety.value exists to be translated into boolean\n",
    "df.Anxiety.value_counts()\n"
   ]
  },
  {
   "cell_type": "code",
   "execution_count": 45,
   "id": "717160ad-1219-4eaa-abb2-d8d0fbecaf3b",
   "metadata": {
    "tags": []
   },
   "outputs": [
    {
     "data": {
      "text/plain": [
       "Allergic_rhinitis\n",
       "No     6059\n",
       "Yes    3941\n",
       "Name: count, dtype: int64"
      ]
     },
     "execution_count": 45,
     "metadata": {},
     "output_type": "execute_result"
    }
   ],
   "source": [
    "# Make sure Allergic_rhinitis.values are applicable to into boolean\n",
    "df.Allergic_rhinitis.value_counts()"
   ]
  },
  {
   "cell_type": "code",
   "execution_count": 47,
   "id": "9b04e2c0-937f-4ea3-96db-2a1351bf1dc5",
   "metadata": {
    "tags": []
   },
   "outputs": [
    {
     "data": {
      "text/plain": [
       "Asthma\n",
       "No     7107\n",
       "Yes    2893\n",
       "Name: count, dtype: int64"
      ]
     },
     "execution_count": 47,
     "metadata": {},
     "output_type": "execute_result"
    }
   ],
   "source": [
    "# Make sure Asthma.values are applicable to into boolean\n",
    "df.Asthma.value_counts()"
   ]
  },
  {
   "cell_type": "code",
   "execution_count": 48,
   "id": "7138040e-721a-4c2e-86cf-a4e02298f9e0",
   "metadata": {
    "tags": []
   },
   "outputs": [
    {
     "data": {
      "text/plain": [
       "Services\n",
       "Blood Work     5265\n",
       "Intravenous    3130\n",
       "CT Scan        1225\n",
       "MRI             380\n",
       "Name: count, dtype: int64"
      ]
     },
     "execution_count": 48,
     "metadata": {},
     "output_type": "execute_result"
    }
   ],
   "source": [
    "\n",
    "# Make sure Services.values are applicable to be categories\n",
    "df.Services.value_counts()"
   ]
  },
  {
   "cell_type": "code",
   "execution_count": 49,
   "id": "859f5f02-05b0-4b59-9a04-721bdcbe8e27",
   "metadata": {
    "tags": []
   },
   "outputs": [
    {
     "data": {
      "text/plain": [
       "Initial_days\n",
       "10.585770    1\n",
       "64.630142    1\n",
       "48.772686    1\n",
       "67.036508    1\n",
       "63.334689    1\n",
       "            ..\n",
       "9.216747     1\n",
       "1.021594     1\n",
       "10.261690    1\n",
       "17.170461    1\n",
       "70.850592    1\n",
       "Name: count, Length: 8944, dtype: int64"
      ]
     },
     "execution_count": 49,
     "metadata": {},
     "output_type": "execute_result"
    }
   ],
   "source": [
    "# Examine data format\n",
    "df.Initial_days.value_counts()"
   ]
  },
  {
   "cell_type": "code",
   "execution_count": 50,
   "id": "41f24f53-6cff-48e4-bcd0-309ed4a0b808",
   "metadata": {
    "tags": []
   },
   "outputs": [
    {
     "data": {
      "text/plain": [
       "count    8944.000000\n",
       "mean       34.432082\n",
       "std        26.287050\n",
       "min         1.001981\n",
       "25%         7.911709\n",
       "50%        34.446941\n",
       "75%        61.124654\n",
       "max        71.981486\n",
       "Name: Initial_days, dtype: float64"
      ]
     },
     "execution_count": 50,
     "metadata": {},
     "output_type": "execute_result"
    }
   ],
   "source": [
    "# Verify Initial_days.describe data exists within bounds, and is able to be rounded\n",
    "df.Initial_days.describe()"
   ]
  },
  {
   "cell_type": "code",
   "execution_count": 52,
   "id": "e1e70042-1007-48ab-93cd-c669f40b9a50",
   "metadata": {
    "tags": []
   },
   "outputs": [
    {
     "data": {
      "text/plain": [
       "count    10000.000000\n",
       "mean      5891.538261\n",
       "std       3377.558136\n",
       "min       1256.751699\n",
       "25%       3253.239465\n",
       "50%       5852.250564\n",
       "75%       7614.989701\n",
       "max      21524.224210\n",
       "Name: TotalCharge, dtype: float64"
      ]
     },
     "execution_count": 52,
     "metadata": {},
     "output_type": "execute_result"
    }
   ],
   "source": [
    "# Verify TotalCharge.data exists within reasonable bounds, is Able to be rounded\n",
    "df.TotalCharge.describe()"
   ]
  },
  {
   "cell_type": "code",
   "execution_count": 53,
   "id": "ead58aac-30d6-4edb-8bc6-a029772fb17e",
   "metadata": {
    "tags": []
   },
   "outputs": [
    {
     "data": {
      "text/plain": [
       "count    10000.000000\n",
       "mean     12934.528586\n",
       "std       6542.601544\n",
       "min       3125.702716\n",
       "25%       7986.487642\n",
       "50%      11573.979365\n",
       "75%      15626.491033\n",
       "max      30566.073130\n",
       "Name: Additional_charges, dtype: float64"
      ]
     },
     "execution_count": 53,
     "metadata": {},
     "output_type": "execute_result"
    }
   ],
   "source": [
    "# Verify Additional_charges.data exists within reasonable bounds, is able to be rounded\n",
    "df.Additional_charges.describe()"
   ]
  },
  {
   "cell_type": "code",
   "execution_count": 54,
   "id": "59fae111-0caa-4e90-9c19-cc08e201346a",
   "metadata": {
    "tags": []
   },
   "outputs": [
    {
     "data": {
      "text/plain": [
       "Item1\n",
       "4    3455\n",
       "3    3404\n",
       "5    1377\n",
       "2    1315\n",
       "6     225\n",
       "1     213\n",
       "7      10\n",
       "8       1\n",
       "Name: count, dtype: int64"
      ]
     },
     "execution_count": 54,
     "metadata": {},
     "output_type": "execute_result"
    }
   ],
   "source": [
    "# Verify data exists within 1 - 8 limit; and is able to be stored as ordered categorical\n",
    "df.Item1.value_counts()"
   ]
  },
  {
   "cell_type": "code",
   "execution_count": 55,
   "id": "e7d1f7d3-ae98-43cd-a768-aec19b8325be",
   "metadata": {
    "tags": []
   },
   "outputs": [
    {
     "data": {
      "text/plain": [
       "Item2\n",
       "3    3439\n",
       "4    3351\n",
       "5    1421\n",
       "2    1360\n",
       "1     213\n",
       "6     204\n",
       "7      12\n",
       "Name: count, dtype: int64"
      ]
     },
     "execution_count": 55,
     "metadata": {},
     "output_type": "execute_result"
    }
   ],
   "source": [
    "# Verify data exists within 1 - 8 limit; and is able to be stored as ordered categorical\n",
    "df.Item2.value_counts()\n"
   ]
  },
  {
   "cell_type": "code",
   "execution_count": 56,
   "id": "1c5df54c-2bf3-4fbf-8edc-f32cd5bd4772",
   "metadata": {
    "tags": []
   },
   "outputs": [
    {
     "data": {
      "text/plain": [
       "Item3\n",
       "4    3464\n",
       "3    3379\n",
       "5    1358\n",
       "2    1356\n",
       "6     220\n",
       "1     211\n",
       "7      11\n",
       "8       1\n",
       "Name: count, dtype: int64"
      ]
     },
     "execution_count": 56,
     "metadata": {},
     "output_type": "execute_result"
    }
   ],
   "source": [
    "# Verify data exists within 1 - 8 limit; and is able to be stored as ordered categorical\n",
    "df.Item3.value_counts()"
   ]
  },
  {
   "cell_type": "code",
   "execution_count": 57,
   "id": "86bd096e-5046-49b8-ac67-92f522e30ac5",
   "metadata": {
    "tags": []
   },
   "outputs": [
    {
     "data": {
      "text/plain": [
       "Item4\n",
       "3    3422\n",
       "4    3394\n",
       "5    1388\n",
       "2    1346\n",
       "6     231\n",
       "1     207\n",
       "7      12\n",
       "Name: count, dtype: int64"
      ]
     },
     "execution_count": 57,
     "metadata": {},
     "output_type": "execute_result"
    }
   ],
   "source": [
    "# Verify data exists within 1 - 8 limit; and is able to be stored as ordered categorical\n",
    "df.Item4.value_counts()"
   ]
  },
  {
   "cell_type": "code",
   "execution_count": 58,
   "id": "e3e9f491-2cbc-4616-9b12-945e7ac39f5c",
   "metadata": {
    "tags": []
   },
   "outputs": [
    {
     "data": {
      "text/plain": [
       "Item5\n",
       "4    3446\n",
       "3    3423\n",
       "2    1380\n",
       "5    1308\n",
       "6     219\n",
       "1     211\n",
       "7      13\n",
       "Name: count, dtype: int64"
      ]
     },
     "execution_count": 58,
     "metadata": {},
     "output_type": "execute_result"
    }
   ],
   "source": [
    "# Verify data exists within 1 - 8 constraint and is suitable to be stored as datatype ordered categorical\n",
    "df.Item5.value_counts()"
   ]
  },
  {
   "cell_type": "code",
   "execution_count": 59,
   "id": "c59fc607-3d8d-41f8-af6a-5347c13e49f6",
   "metadata": {
    "tags": []
   },
   "outputs": [
    {
     "data": {
      "text/plain": [
       "Item6\n",
       "4    3464\n",
       "3    3371\n",
       "5    1403\n",
       "2    1319\n",
       "6     220\n",
       "1     213\n",
       "7      10\n",
       "Name: count, dtype: int64"
      ]
     },
     "execution_count": 59,
     "metadata": {},
     "output_type": "execute_result"
    }
   ],
   "source": [
    "# Verify data exists within 1 - 8 limit; and is able to be stored as ordered categorical\n",
    "df.Item6.value_counts()"
   ]
  },
  {
   "cell_type": "code",
   "execution_count": 60,
   "id": "77676546-e20e-4fc0-82e4-c538c4506443",
   "metadata": {
    "tags": []
   },
   "outputs": [
    {
     "data": {
      "text/plain": [
       "Item7\n",
       "4    3487\n",
       "3    3456\n",
       "2    1345\n",
       "5    1274\n",
       "1     215\n",
       "6     212\n",
       "7      11\n",
       "Name: count, dtype: int64"
      ]
     },
     "execution_count": 60,
     "metadata": {},
     "output_type": "execute_result"
    }
   ],
   "source": [
    "# Verify data exists within 1 - 8 limit; and is able to be stored as ordered categorical\n",
    "df.Item7.value_counts()\n"
   ]
  },
  {
   "cell_type": "code",
   "execution_count": 61,
   "id": "723ba2b8-e302-4873-89de-046a8031d3d3",
   "metadata": {
    "tags": []
   },
   "outputs": [
    {
     "data": {
      "text/plain": [
       "Item8\n",
       "3    3401\n",
       "4    3337\n",
       "5    1429\n",
       "2    1391\n",
       "6     221\n",
       "1     209\n",
       "7      12\n",
       "Name: count, dtype: int64"
      ]
     },
     "execution_count": 61,
     "metadata": {},
     "output_type": "execute_result"
    }
   ],
   "source": [
    "# Verify data exists within 1 - 8 limit; and is able to be stored as ordered categorical\n",
    "df.Item8.value_counts()"
   ]
  },
  {
   "cell_type": "code",
   "execution_count": 63,
   "id": "076b5e48-86ad-466a-862d-cb28f38fcfc2",
   "metadata": {
    "tags": []
   },
   "outputs": [],
   "source": [
    "# Transform the 'Zip' column to strings from integers and prepend zeros to achieve a length of 5 characters\n",
    "df['Zip'] = df['Zip'].astype(\"str\").str.zfill(5)\n",
    "# Modify the data type of the 'Area' column from string to category\n",
    "df[\"Area\"] = df[\"Area\"].astype(\"category\")\n",
    "# Substituting city-specific values with time-zone specific values\n",
    "df.Timezone.replace({\n",
    "    # Puerto Rico observes Atlantic Standard Time throughout the year without DST\n",
    "    \"America/Puerto_Rico\" : \"US - Puerto Rico\",\n",
    "    # US - Eastern time zone observes DST\n",
    "    \"America/New_York\": \"US - Eastern\",\n",
    "    \"America/Detroit\" : \"US - Eastern\",\n",
    "    \"America/Indiana/Indianapolis\" : \"US - Eastern\",\n",
    "    \"America/Indiana/Vevay\" : \"US - Eastern\",\n",
    "    \"America/Indiana/Vincennes\" : \"US - Eastern\",\n",
    "    \"America/Kentucky/Louisville\" : \"US - Eastern\",\n",
    "    \"America/Toronto\" : \"US - Eastern\",\n",
    "    \"America/Indiana/Marengo\" : \"US - Eastern\",\n",
    "    \"America/Indiana/Winamac\" : \"US - Eastern\",\n",
    "    # US - Central time zone observes DST\n",
    "    \"America/Chicago\" : \"US - Central\",\n",
    "    \"America/Menominee\" : \"US - Central\",\n",
    "    \"America/Indiana/Knox\" : \"US - Central\",\n",
    "    \"America/Indiana/Tell_City\" : \"US - Central\",\n",
    "    \"America/North_Dakota/Beulah\" : \"US - Central\",\n",
    "    \"America/North_Dakota/New_Salem\" : \"US - Central\",\n",
    "    # US - Mountain time zone observes DST\n",
    "    \"America/Denver\" : \"US - Mountain\",\n",
    "    \"America/Boise\" : \"US - Mountain\",\n",
    "    # Arizona remains on Mountain Standard Time throughout the year without DST\n",
    "    \"America/Phoenix\" : \"US - Arizona\",\n",
    "    # US - Pacific time zone observes DST\n",
    "    \"America/Los_Angeles\" : \"US - Pacific\",\n",
    "    # US - Alaskan time zone observes DST\n",
    "    \"America/Nome\" : \"US - Alaskan\",\n",
    "    \"America/Anchorage\" : \"US - Alaskan\",\n",
    "    \"America/Sitka\" : \"US - Alaskan\",\n",
    "    \"America/Yakutat\" : \"US - Alaskan\",\n",
    "    # US - Aleutian time zone observes DST\n",
    "    \"America/Adak\" : \"US - Aleutian\",\n",
    "    # Hawaii remains on Hawaii Standard Time throughout the year without DST\n",
    "    \"Pacific/Honolulu\" : \"US - Hawaiian\"\n",
    "    }, inplace=True)\n",
    "# Convert the 'Timezone' column from string to category\n",
    "df[\"Timezone\"] = df[\"Timezone\"].astype(\"category\")\n",
    "# Convert the 'Children' column from float to Int64 to accommodate NaN values\n",
    "df[\"Children\"] = df[\"Children\"].astype(\"Int64\")\n",
    "# Convert the 'Age' column from float to Int64 to accommodate NaN values\n",
    "df[\"Age\"] = df[\"Age\"].astype(\"Int64\")\n",
    "# Modify the data type of the 'Education' column from string to category\n",
    "df[\"Education\"] = df[\"Education\"].astype(\"category\")\n",
    "# Modify the data type of the 'Employment' column from string to category\n",
    "df[\"Employment\"] = df[\"Employment\"].astype(\"category\")\n",
    "# Modify the data type of the 'Marital' column from string to category\n",
    "df[\"Marital\"] = df[\"Marital\"].astype(\"category\")\n",
    "# The data dictionary indicates three options for Gender: Male, Female, and Non-Binary.\n",
    "# Original data contains Male, Female, and Prefer not to answer.\n",
    "# Replace Prefer not to answer with Non-Binary to align with the data dictionary.\n",
    "# However, this replacement should be reviewed for better accuracy.\n",
    "df.Gender.replace({\n",
    "    \"Female\" : \"F\",\n",
    "    \"Male\" : \"M\",\n",
    "    \"Prefer not to answer\" : \"NB\"  \n",
    "}, inplace=True)\n",
    "# Convert the 'Gender' column from string to category\n",
    "df[\"Gender\"] = df[\"Gender\"].astype(\"category\")\n",
    "# Convert the 'ReAdmis' column from string to boolean\n",
    "df[\"ReAdmis\"] = df[\"ReAdmis\"].astype(\"bool\")\n",
    "# Adjust the 'VitD_levels' column to display three decimal places from six\n",
    "df[\"VitD_levels\"] = df.VitD_levels.round(3)\n",
    "# Convert the 'Soft_drink' column from string to boolean\n",
    "df[\"Soft_drink\"] = df[\"Soft_drink\"].astype(\"bool\")\n",
    "# Modify the data type of the 'Initial_admin' column from string to category\n",
    "df[\"Initial_admin\"] = df[\"Initial_admin\"].astype(\"category\")\n",
    "# Convert the 'HighBlood' column from string to boolean\n",
    "df[\"HighBlood\"] = df[\"HighBlood\"].astype(\"bool\")\n",
    "# Convert the 'Stroke' column from string to boolean\n",
    "df[\"Stroke\"] = df[\"Stroke\"].astype(\"bool\")\n",
    "# Modify the data type of the 'Complication_risk' column from string to category\n",
    "df[\"Complication_risk\"] = df[\"Complication_risk\"].astype(\"category\")\n",
    "# Convert the 'Overweight' column from string to boolean\n",
    "df[\"Overweight\"] = df[\"Overweight\"].astype(\"bool\")\n",
    "# Convert the 'Arthritis' column from string to boolean\n",
    "df[\"Arthritis\"] = df[\"Arthritis\"].astype(\"bool\")\n",
    "# Convert the 'Diabetes' column from string to boolean\n",
    "df[\"Diabetes\"] = df[\"Diabetes\"].astype(\"bool\")\n",
    "# Convert the 'Hyperlipidemia' column from string to boolean\n",
    "df[\"Hyperlipidemia\"] = df[\"Hyperlipidemia\"].astype(\"bool\")\n",
    "# Convert the 'BackPain' column from string to boolean\n",
    "df[\"BackPain\"] = df[\"BackPain\"].astype(\"bool\")\n",
    "# Convert the 'Anxiety' column from string to boolean\n",
    "df[\"Anxiety\"] = df[\"Anxiety\"].astype(\"bool\")\n",
    "# Convert the 'Allergic_rhinitis' column from string to boolean\n",
    "df[\"Allergic_rhinitis\"] = df[\"Allergic_rhinitis\"].astype(\"bool\")\n",
    "# Convert the 'Reflux_esophagitis' column from string to boolean\n",
    "df[\"Reflux_esophagitis\"] = df[\"Reflux_esophagitis\"].astype(\"bool\")\n",
    "# Convert the 'Asthma' column from string to boolean\n",
    "df[\"Asthma\"] = df[\"Asthma\"].astype(\"bool\")\n",
    "# Modify the data type of the 'Services' column from string to category\n",
    "df[\"Services\"] = df[\"Services\"].astype(\"category\")\n",
    "# The 'Initial_days' column only records hospital stays over 1 day; NaNs are interpreted as 0 days\n",
    "df.Initial_days.fillna(0, inplace=True)\n",
    "# Convert the 'Initial_days' column from float to integer\n",
    "df[\"Initial_days\"] = df[\"Initial_days\"].astype(\"int64\")\n",
    "# Adjust the 'TotalCharge' column to display two decimal places from six\n",
    "df[\"TotalCharge\"] = df.TotalCharge.round(2)\n",
    "# Adjust the 'Additional_charges' column to display two decimal places from six\n",
    "df[\"Additional_charges\"] = df.Additional_charges.round(2)\n",
    "# Establish an ordered categorical data structure (\"1\" > \"2\" > ... > \"7\" > \"8\") for survey response columns\n",
    "survey_scores = CategoricalDtype(categories=[\"8\", \"7\", \"6\", \"5\", \"4\", \"3\", \"2\", \"1\"], ordered=True)\n",
    "# Convert integers to strings (required for conversion to ordered categorical data type)\n",
    "df[\"Item1\"] = df[\"Item1\"].map(str)\n",
    "# Reassign the data type from strings to the created survey_scores data type\n",
    "df[\"Item1\"] = df[\"Item1\"].astype(survey_scores)\n",
    "# Convert integers to strings (required for conversion to ordered categorical data type)\n",
    "df[\"Item2\"] = df[\"Item2\"].map(str)\n",
    "# Reassign the data type from strings to the created survey_scores data type\n",
    "df[\"Item2\"] = df[\"Item2\"].astype(survey_scores)\n",
    "# Convert integers to strings (required for conversion to ordered categorical data type)\n",
    "df[\"Item3\"] = df[\"Item3\"].map(str)\n",
    "# Reassign the data type from strings to the created survey_scores data type\n",
    "df[\"Item3\"] = df[\"Item3\"].astype(survey_scores)\n",
    "# Convert integers to strings (required for conversion to ordered categorical data type)\n",
    "df[\"Item4\"] = df[\"Item4\"].map(str)\n",
    "# Reassign the data type from strings to the created survey_scores data type\n",
    "df[\"Item4\"] = df[\"Item4\"].astype(survey_scores)\n",
    "# Convert integers to strings (required for conversion to ordered categorical data type)\n",
    "df[\"Item5\"] = df[\"Item5\"].map(str)\n",
    "# Reassign the data type from strings to the created survey_scores data type\n",
    "df[\"Item5\"] = df[\"Item5\"].astype(survey_scores)\n",
    "# Convert integers to strings (required for conversion to ordered categorical data type)\n",
    "df[\"Item6\"] = df[\"Item6\"].map(str)\n",
    "# Reassign the data type from strings to the created survey_scores data type\n",
    "df[\"Item6\"] = df[\"Item6\"].astype(survey_scores)\n",
    "# Convert integers to strings (required for conversion to ordered categorical data type)\n",
    "df[\"Item7\"] = df[\"Item7\"].map(str)\n",
    "# Reassign the data type from strings to the created survey_scores data type\n",
    "df[\"Item7\"] = df[\"Item7\"].astype(survey_scores)\n",
    "# Convert integers to strings (required for conversion to ordered categorical data type)\n",
    "df[\"Item8\"] = df[\"Item8\"].map(str)\n",
    "# Reassign the data type from strings to the created survey_scores data type\n",
    "df[\"Item8\"] = df[\"Item8\"].astype(survey_scores)\n",
    "# Drop all rows containing null values (only present in 'Children', 'Age', and 'Income' columns)\n",
    "df.dropna(inplace=True)\n",
    "# Generate descriptive and pythonic column names\n",
    "pythonic_columns = [\"case_order\", \"customer_id\", \"interaction\", \"uid\", \"city\", \"state\", \"county\",\n",
    "                \t\"zip_code\", \"latitude\", \"longitude\", \"population\", \"area_type\", \"timezone\", \"job\", \"children\",\n",
    "                \t\"age\", \"education\", \"employment_status\", \"income\", \"marital_status\", \"gender\", \"readmission\",\n",
    "                \t\"vitamin_d_level\", \"dr_visits\", \"full_meals\", \"vit_d_supp\", \"soft_drink\", \"initial_admit\",\n",
    "                \t\"high_bp\", \"stroke\", \"complication_risk\", \"overweight\", \"arthritis\", \"diabetes\", \"hyperlipidemia\",\n",
    "                \t\"back_pain\", \"anxiety\", \"allergic_rhinitis\", \"reflux_esophagitis\", \"asthma\", \"services\",\n",
    "                \t\"initial_stay\", \"daily_charge\", \"addl_charge\", \"surv1_timely_admit\", \"surv2_timely_treat\",\n",
    "                \t\"surv3_timely_visit\", \"surv4_reliable\", \"surv5_options\", \"surv6_hours\", \"surv7_courteous\",\n",
    "                \t\"surv8_dr_listen\"]\n",
    "# Apply the new descriptive column names\n",
    "df = df.set_axis(pythonic_columns, axis=1)\n",
    "\n"
   ]
  },
  {
   "cell_type": "code",
   "execution_count": 64,
   "id": "3ca6c7ff-6033-435c-86f6-df14be3974a3",
   "metadata": {
    "tags": []
   },
   "outputs": [
    {
     "name": "stdout",
     "output_type": "stream",
     "text": [
      "<class 'pandas.core.frame.DataFrame'>\n",
      "Index: 4221 entries, 1 to 9999\n",
      "Data columns (total 52 columns):\n",
      " #   Column              Non-Null Count  Dtype   \n",
      "---  ------              --------------  -----   \n",
      " 0   case_order          4221 non-null   int64   \n",
      " 1   customer_id         4221 non-null   object  \n",
      " 2   interaction         4221 non-null   object  \n",
      " 3   uid                 4221 non-null   object  \n",
      " 4   city                4221 non-null   object  \n",
      " 5   state               4221 non-null   object  \n",
      " 6   county              4221 non-null   object  \n",
      " 7   zip_code            4221 non-null   object  \n",
      " 8   latitude            4221 non-null   float64 \n",
      " 9   longitude           4221 non-null   float64 \n",
      " 10  population          4221 non-null   int64   \n",
      " 11  area_type           4221 non-null   category\n",
      " 12  timezone            4221 non-null   category\n",
      " 13  job                 4221 non-null   object  \n",
      " 14  children            4221 non-null   Int64   \n",
      " 15  age                 4221 non-null   Int64   \n",
      " 16  education           4221 non-null   category\n",
      " 17  employment_status   4221 non-null   category\n",
      " 18  income              4221 non-null   float64 \n",
      " 19  marital_status      4221 non-null   category\n",
      " 20  gender              4221 non-null   category\n",
      " 21  readmission         4221 non-null   bool    \n",
      " 22  vitamin_d_level     4221 non-null   float64 \n",
      " 23  dr_visits           4221 non-null   int64   \n",
      " 24  full_meals          4221 non-null   int64   \n",
      " 25  vit_d_supp          4221 non-null   int64   \n",
      " 26  soft_drink          4221 non-null   bool    \n",
      " 27  initial_admit       4221 non-null   category\n",
      " 28  high_bp             4221 non-null   bool    \n",
      " 29  stroke              4221 non-null   bool    \n",
      " 30  complication_risk   4221 non-null   category\n",
      " 31  overweight          4221 non-null   bool    \n",
      " 32  arthritis           4221 non-null   bool    \n",
      " 33  diabetes            4221 non-null   bool    \n",
      " 34  hyperlipidemia      4221 non-null   bool    \n",
      " 35  back_pain           4221 non-null   bool    \n",
      " 36  anxiety             4221 non-null   bool    \n",
      " 37  allergic_rhinitis   4221 non-null   bool    \n",
      " 38  reflux_esophagitis  4221 non-null   bool    \n",
      " 39  asthma              4221 non-null   bool    \n",
      " 40  services            4221 non-null   category\n",
      " 41  initial_stay        4221 non-null   int64   \n",
      " 42  daily_charge        4221 non-null   float64 \n",
      " 43  addl_charge         4221 non-null   float64 \n",
      " 44  surv1_timely_admit  4221 non-null   category\n",
      " 45  surv2_timely_treat  4221 non-null   category\n",
      " 46  surv3_timely_visit  4221 non-null   category\n",
      " 47  surv4_reliable      4221 non-null   category\n",
      " 48  surv5_options       4221 non-null   category\n",
      " 49  surv6_hours         4221 non-null   category\n",
      " 50  surv7_courteous     4221 non-null   category\n",
      " 51  surv8_dr_listen     4221 non-null   category\n",
      "dtypes: Int64(2), bool(13), category(17), float64(6), int64(6), object(8)\n",
      "memory usage: 895.1+ KB\n"
     ]
    }
   ],
   "source": [
    "df.info()"
   ]
  },
  {
   "cell_type": "code",
   "execution_count": 65,
   "id": "f17ea846-7ceb-460f-8562-b1f43e95d2ef",
   "metadata": {
    "tags": []
   },
   "outputs": [
    {
     "name": "stdout",
     "output_type": "stream",
     "text": [
      "Modified CSV file saved successfully!\n"
     ]
    }
   ],
   "source": [
    "# Export DataFrame to CSV file\n",
    "df.to_csv('modified_data.csv', index=False)\n",
    "\n",
    "# Provide feedback after the file is saved\n",
    "print(\"Modified CSV file saved successfully!\")\n"
   ]
  },
  {
   "cell_type": "code",
   "execution_count": 66,
   "id": "460da1c8-7b6f-4719-a5a6-23731322e343",
   "metadata": {
    "tags": []
   },
   "outputs": [
    {
     "data": {
      "text/html": [
       "<div>\n",
       "<style scoped>\n",
       "    .dataframe tbody tr th:only-of-type {\n",
       "        vertical-align: middle;\n",
       "    }\n",
       "\n",
       "    .dataframe tbody tr th {\n",
       "        vertical-align: top;\n",
       "    }\n",
       "\n",
       "    .dataframe thead th {\n",
       "        text-align: right;\n",
       "    }\n",
       "</style>\n",
       "<table border=\"1\" class=\"dataframe\">\n",
       "  <thead>\n",
       "    <tr style=\"text-align: right;\">\n",
       "      <th></th>\n",
       "      <th>PC1</th>\n",
       "      <th>PC2</th>\n",
       "      <th>PC3</th>\n",
       "      <th>PC4</th>\n",
       "      <th>PC5</th>\n",
       "      <th>PC6</th>\n",
       "      <th>PC7</th>\n",
       "    </tr>\n",
       "  </thead>\n",
       "  <tbody>\n",
       "    <tr>\n",
       "      <th>income</th>\n",
       "      <td>0.017216</td>\n",
       "      <td>0.005578</td>\n",
       "      <td>0.700570</td>\n",
       "      <td>0.056301</td>\n",
       "      <td>0.710691</td>\n",
       "      <td>-0.009080</td>\n",
       "      <td>0.023238</td>\n",
       "    </tr>\n",
       "    <tr>\n",
       "      <th>initial_stay</th>\n",
       "      <td>0.241338</td>\n",
       "      <td>0.665017</td>\n",
       "      <td>0.007842</td>\n",
       "      <td>-0.011905</td>\n",
       "      <td>-0.025842</td>\n",
       "      <td>-0.705449</td>\n",
       "      <td>-0.031299</td>\n",
       "    </tr>\n",
       "    <tr>\n",
       "      <th>dr_visits</th>\n",
       "      <td>0.016407</td>\n",
       "      <td>-0.025904</td>\n",
       "      <td>0.628693</td>\n",
       "      <td>0.420886</td>\n",
       "      <td>-0.653172</td>\n",
       "      <td>0.005060</td>\n",
       "      <td>-0.001219</td>\n",
       "    </tr>\n",
       "    <tr>\n",
       "      <th>full_meals</th>\n",
       "      <td>0.026749</td>\n",
       "      <td>-0.004514</td>\n",
       "      <td>-0.336817</td>\n",
       "      <td>0.904433</td>\n",
       "      <td>0.259252</td>\n",
       "      <td>-0.023883</td>\n",
       "      <td>0.006184</td>\n",
       "    </tr>\n",
       "    <tr>\n",
       "      <th>daily_charge</th>\n",
       "      <td>0.259653</td>\n",
       "      <td>0.657064</td>\n",
       "      <td>-0.000036</td>\n",
       "      <td>0.015343</td>\n",
       "      <td>-0.004243</td>\n",
       "      <td>0.707246</td>\n",
       "      <td>0.019933</td>\n",
       "    </tr>\n",
       "    <tr>\n",
       "      <th>addl_charge</th>\n",
       "      <td>0.659183</td>\n",
       "      <td>-0.255525</td>\n",
       "      <td>-0.002183</td>\n",
       "      <td>-0.020086</td>\n",
       "      <td>0.013088</td>\n",
       "      <td>0.015818</td>\n",
       "      <td>-0.706651</td>\n",
       "    </tr>\n",
       "    <tr>\n",
       "      <th>age</th>\n",
       "      <td>0.662219</td>\n",
       "      <td>-0.244957</td>\n",
       "      <td>-0.020854</td>\n",
       "      <td>-0.030106</td>\n",
       "      <td>-0.014712</td>\n",
       "      <td>-0.034885</td>\n",
       "      <td>0.706178</td>\n",
       "    </tr>\n",
       "  </tbody>\n",
       "</table>\n",
       "</div>"
      ],
      "text/plain": [
       "                   PC1       PC2       PC3       PC4       PC5       PC6  \\\n",
       "income        0.017216  0.005578  0.700570  0.056301  0.710691 -0.009080   \n",
       "initial_stay  0.241338  0.665017  0.007842 -0.011905 -0.025842 -0.705449   \n",
       "dr_visits     0.016407 -0.025904  0.628693  0.420886 -0.653172  0.005060   \n",
       "full_meals    0.026749 -0.004514 -0.336817  0.904433  0.259252 -0.023883   \n",
       "daily_charge  0.259653  0.657064 -0.000036  0.015343 -0.004243  0.707246   \n",
       "addl_charge   0.659183 -0.255525 -0.002183 -0.020086  0.013088  0.015818   \n",
       "age           0.662219 -0.244957 -0.020854 -0.030106 -0.014712 -0.034885   \n",
       "\n",
       "                   PC7  \n",
       "income        0.023238  \n",
       "initial_stay -0.031299  \n",
       "dr_visits    -0.001219  \n",
       "full_meals    0.006184  \n",
       "daily_charge  0.019933  \n",
       "addl_charge  -0.706651  \n",
       "age           0.706178  "
      ]
     },
     "execution_count": 66,
     "metadata": {},
     "output_type": "execute_result"
    }
   ],
   "source": [
    "# Extract specified quantitative variables for Principal Component Analysis and store them in a new DataFrame\n",
    "pca_data = df[[\"income\", \"initial_stay\", \"dr_visits\", \"full_meals\", \"daily_charge\", \"addl_charge\", \"age\"]]\n",
    "\n",
    "# Normalize the selected columns by mean subtraction and standard deviation division\n",
    "pca_data_normalized = (pca_data - pca_data.mean()) / pca_data.std()\n",
    "\n",
    "# Define the number of Principal Components for the analysis\n",
    "num_components = pca_data.shape[1]  # Number of input components\n",
    "\n",
    "# Initialize Principal Component Analysis with the specified number of components\n",
    "pca_model = PCA(n_components=num_components)\n",
    "\n",
    "# Fit the normalized data to the Principal Component Analysis model\n",
    "pca_model.fit(pca_data_normalized)\n",
    "\n",
    "# Transform the normalized data using the trained PCA model and store it in a DataFrame for printing\n",
    "pca_transformed_data = pd.DataFrame(pca_model.transform(pca_data_normalized),\n",
    "                                    columns=[\"PC1\", \"PC2\", \"PC3\", \"PC4\", \"PC5\", \"PC6\", \"PC7\"])\n",
    "\n",
    "# Create a DataFrame to display the component loadings (correlation coefficients of each Principal Component)\n",
    "pca_loadings = pd.DataFrame(pca_model.components_.T,\n",
    "                            columns=[\"PC1\", \"PC2\", \"PC3\", \"PC4\", \"PC5\", \"PC6\", \"PC7\"],\n",
    "                            index=pca_data_normalized.columns)\n",
    "\n",
    "# Display the component loadings (correlation coefficients) of each Principal Component\n",
    "pca_loadings\n"
   ]
  },
  {
   "cell_type": "code",
   "execution_count": 67,
   "id": "053930f0-b3a1-46e0-a504-cbb0b5883637",
   "metadata": {
    "tags": []
   },
   "outputs": [
    {
     "data": {
      "image/png": "[encoded data removed]",
      "text/plain": [
       "<Figure size 2000x1000 with 1 Axes>"
      ]
     },
     "metadata": {},
     "output_type": "display_data"
    }
   ],
   "source": [
    "# Calculate the covariance matrix to understand how variables relate to each other\n",
    "covariance_matrix = np.dot(pca_data_normalized.T, pca_data_normalized) / pca_data.shape[0]\n",
    "\n",
    "# Compute eigenvalues to see how much information each Principal Component captures\n",
    "eigenvalues = [np.dot(eigenvector.T, np.dot(covariance_matrix, eigenvector)) for eigenvector in pca_model.components_]\n",
    "\n",
    "# Visualize the eigenvalues to decide the number of Principal Components to keep\n",
    "plt.figure(figsize=[20, 10])\n",
    "plt.plot(eigenvalues)\n",
    "plt.xlabel('Number of Components')\n",
    "plt.ylabel('Eigenvalues')\n",
    "plt.axhline(y=1, color='red')  # Reference line to determine significant components\n",
    "plt.show()\n"
   ]
  },
  {
   "cell_type": "code",
   "execution_count": null,
   "id": "a4a37ac6-a5db-4938-a6cc-4e7b368dbbea",
   "metadata": {},
   "outputs": [],
   "source": []
  }
 ],
 "metadata": {
  "kernelspec": {
   "display_name": "Python 3 (ipykernel)",
   "language": "python",
   "name": "python3"
  },
  "language_info": {
   "codemirror_mode": {
    "name": "ipython",
    "version": 3
   },
   "file_extension": ".py",
   "mimetype": "text/x-python",
   "name": "python",
   "nbconvert_exporter": "python",
   "pygments_lexer": "ipython3",
   "version": "3.11.5"
  }
 },
 "nbformat": 4,
 "nbformat_minor": 5
}
